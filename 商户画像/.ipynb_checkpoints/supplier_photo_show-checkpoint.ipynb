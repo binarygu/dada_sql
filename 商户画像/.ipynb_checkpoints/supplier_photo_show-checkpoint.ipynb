{
 "cells": [
  {
   "cell_type": "markdown",
   "metadata": {},
   "source": [
    "\n",
    "<h1 align = \"center\">商户画像</h1>"
   ]
  },
  {
   "cell_type": "markdown",
   "metadata": {},
   "source": [
    "* 总体数据分布\n",
    "* 城市商户分布\n",
    "* 商户的**客单价**分布与标签化\n",
    "* 商户的**订单量**分布与标签化\n",
    "* 商户的**活跃率**分布与标签化\n",
    "* 商户的**创建天数**的分布于标签化"
   ]
  },
  {
   "cell_type": "code",
   "execution_count": 22,
   "metadata": {
    "collapsed": true
   },
   "outputs": [],
   "source": [
    "import numpy as np \n",
    "import pandas as pd\n",
    "import matplotlib.pyplot as plt\n",
    "\n",
    "%matplotlib inline"
   ]
  },
  {
   "cell_type": "code",
   "execution_count": 23,
   "metadata": {
    "collapsed": false,
    "scrolled": true
   },
   "outputs": [
    {
     "data": {
      "text/html": [
       "<div>\n",
       "<table border=\"1\" class=\"dataframe\">\n",
       "  <thead>\n",
       "    <tr style=\"text-align: right;\">\n",
       "      <th></th>\n",
       "      <th>city_id</th>\n",
       "      <th>fee_sum</th>\n",
       "      <th>fee_per_user</th>\n",
       "      <th>order_shuliang</th>\n",
       "      <th>active_day</th>\n",
       "      <th>active_lv</th>\n",
       "      <th>supplier_first_date</th>\n",
       "    </tr>\n",
       "    <tr>\n",
       "      <th>supplier_id</th>\n",
       "      <th></th>\n",
       "      <th></th>\n",
       "      <th></th>\n",
       "      <th></th>\n",
       "      <th></th>\n",
       "      <th></th>\n",
       "      <th></th>\n",
       "    </tr>\n",
       "  </thead>\n",
       "  <tbody>\n",
       "    <tr>\n",
       "      <th>125</th>\n",
       "      <td>1</td>\n",
       "      <td>15011</td>\n",
       "      <td>24.935216</td>\n",
       "      <td>602</td>\n",
       "      <td>23</td>\n",
       "      <td>1.0000</td>\n",
       "      <td>23</td>\n",
       "    </tr>\n",
       "    <tr>\n",
       "      <th>148</th>\n",
       "      <td>1</td>\n",
       "      <td>8546</td>\n",
       "      <td>34.047809</td>\n",
       "      <td>251</td>\n",
       "      <td>30</td>\n",
       "      <td>1.0000</td>\n",
       "      <td>31</td>\n",
       "    </tr>\n",
       "    <tr>\n",
       "      <th>156</th>\n",
       "      <td>1</td>\n",
       "      <td>26991</td>\n",
       "      <td>34.917206</td>\n",
       "      <td>773</td>\n",
       "      <td>30</td>\n",
       "      <td>1.0000</td>\n",
       "      <td>159</td>\n",
       "    </tr>\n",
       "    <tr>\n",
       "      <th>193</th>\n",
       "      <td>1</td>\n",
       "      <td>10234</td>\n",
       "      <td>32.488889</td>\n",
       "      <td>315</td>\n",
       "      <td>28</td>\n",
       "      <td>0.9333</td>\n",
       "      <td>32</td>\n",
       "    </tr>\n",
       "    <tr>\n",
       "      <th>216</th>\n",
       "      <td>1</td>\n",
       "      <td>20571</td>\n",
       "      <td>24.031542</td>\n",
       "      <td>856</td>\n",
       "      <td>18</td>\n",
       "      <td>1.0000</td>\n",
       "      <td>18</td>\n",
       "    </tr>\n",
       "  </tbody>\n",
       "</table>\n",
       "</div>"
      ],
      "text/plain": [
       "             city_id  fee_sum  fee_per_user  order_shuliang  active_day  \\\n",
       "supplier_id                                                               \n",
       "125                1    15011     24.935216             602          23   \n",
       "148                1     8546     34.047809             251          30   \n",
       "156                1    26991     34.917206             773          30   \n",
       "193                1    10234     32.488889             315          28   \n",
       "216                1    20571     24.031542             856          18   \n",
       "\n",
       "             active_lv  supplier_first_date  \n",
       "supplier_id                                  \n",
       "125             1.0000                   23  \n",
       "148             1.0000                   31  \n",
       "156             1.0000                  159  \n",
       "193             0.9333                   32  \n",
       "216             1.0000                   18  "
      ]
     },
     "execution_count": 23,
     "metadata": {},
     "output_type": "execute_result"
    }
   ],
   "source": [
    "#收先从原始订单表中取出数据\n",
    "#商户画像基础表\n",
    "supplier_data_info = pd.read_csv('supplier_photo_basic_info.csv', index_col = 1)\n",
    "del supplier_data_info['create_dt']\n",
    "supplier_data_info.head(5)"
   ]
  },
  {
   "cell_type": "code",
   "execution_count": 42,
   "metadata": {
    "collapsed": false
   },
   "outputs": [
    {
     "data": {
      "text/html": [
       "<div>\n",
       "<table border=\"1\" class=\"dataframe\">\n",
       "  <thead>\n",
       "    <tr style=\"text-align: right;\">\n",
       "      <th></th>\n",
       "      <th>city_id</th>\n",
       "      <th>fee_sum</th>\n",
       "      <th>fee_per_user</th>\n",
       "      <th>order_shuliang</th>\n",
       "      <th>active_day</th>\n",
       "      <th>active_lv</th>\n",
       "      <th>supplier_first_date</th>\n",
       "    </tr>\n",
       "  </thead>\n",
       "  <tbody>\n",
       "    <tr>\n",
       "      <th>count</th>\n",
       "      <td>50795.000000</td>\n",
       "      <td>50795.000000</td>\n",
       "      <td>50795.000000</td>\n",
       "      <td>50795.000000</td>\n",
       "      <td>50795.000000</td>\n",
       "      <td>50795.000000</td>\n",
       "      <td>50795.000000</td>\n",
       "    </tr>\n",
       "    <tr>\n",
       "      <th>mean</th>\n",
       "      <td>11.113456</td>\n",
       "      <td>9585.631204</td>\n",
       "      <td>31.100257</td>\n",
       "      <td>329.482311</td>\n",
       "      <td>17.097431</td>\n",
       "      <td>0.856392</td>\n",
       "      <td>25.052033</td>\n",
       "    </tr>\n",
       "    <tr>\n",
       "      <th>std</th>\n",
       "      <td>8.646630</td>\n",
       "      <td>13011.100694</td>\n",
       "      <td>11.196202</td>\n",
       "      <td>453.426603</td>\n",
       "      <td>9.514926</td>\n",
       "      <td>0.250595</td>\n",
       "      <td>19.514291</td>\n",
       "    </tr>\n",
       "    <tr>\n",
       "      <th>min</th>\n",
       "      <td>1.000000</td>\n",
       "      <td>1.000000</td>\n",
       "      <td>0.100000</td>\n",
       "      <td>1.000000</td>\n",
       "      <td>1.000000</td>\n",
       "      <td>0.033300</td>\n",
       "      <td>1.000000</td>\n",
       "    </tr>\n",
       "    <tr>\n",
       "      <th>25%</th>\n",
       "      <td>4.000000</td>\n",
       "      <td>1703.000000</td>\n",
       "      <td>26.188077</td>\n",
       "      <td>55.000000</td>\n",
       "      <td>9.000000</td>\n",
       "      <td>0.833300</td>\n",
       "      <td>13.000000</td>\n",
       "    </tr>\n",
       "    <tr>\n",
       "      <th>50%</th>\n",
       "      <td>9.000000</td>\n",
       "      <td>5087.500000</td>\n",
       "      <td>29.076788</td>\n",
       "      <td>171.000000</td>\n",
       "      <td>17.000000</td>\n",
       "      <td>1.000000</td>\n",
       "      <td>22.000000</td>\n",
       "    </tr>\n",
       "    <tr>\n",
       "      <th>75%</th>\n",
       "      <td>17.000000</td>\n",
       "      <td>12232.100000</td>\n",
       "      <td>32.861345</td>\n",
       "      <td>421.000000</td>\n",
       "      <td>27.000000</td>\n",
       "      <td>1.000000</td>\n",
       "      <td>30.000000</td>\n",
       "    </tr>\n",
       "    <tr>\n",
       "      <th>max</th>\n",
       "      <td>40.000000</td>\n",
       "      <td>259138.000000</td>\n",
       "      <td>1076.000000</td>\n",
       "      <td>8530.000000</td>\n",
       "      <td>30.000000</td>\n",
       "      <td>1.000000</td>\n",
       "      <td>159.000000</td>\n",
       "    </tr>\n",
       "  </tbody>\n",
       "</table>\n",
       "</div>"
      ],
      "text/plain": [
       "            city_id        fee_sum  fee_per_user  order_shuliang  \\\n",
       "count  50795.000000   50795.000000  50795.000000    50795.000000   \n",
       "mean      11.113456    9585.631204     31.100257      329.482311   \n",
       "std        8.646630   13011.100694     11.196202      453.426603   \n",
       "min        1.000000       1.000000      0.100000        1.000000   \n",
       "25%        4.000000    1703.000000     26.188077       55.000000   \n",
       "50%        9.000000    5087.500000     29.076788      171.000000   \n",
       "75%       17.000000   12232.100000     32.861345      421.000000   \n",
       "max       40.000000  259138.000000   1076.000000     8530.000000   \n",
       "\n",
       "         active_day     active_lv  supplier_first_date  \n",
       "count  50795.000000  50795.000000         50795.000000  \n",
       "mean      17.097431      0.856392            25.052033  \n",
       "std        9.514926      0.250595            19.514291  \n",
       "min        1.000000      0.033300             1.000000  \n",
       "25%        9.000000      0.833300            13.000000  \n",
       "50%       17.000000      1.000000            22.000000  \n",
       "75%       27.000000      1.000000            30.000000  \n",
       "max       30.000000      1.000000           159.000000  "
      ]
     },
     "execution_count": 42,
     "metadata": {},
     "output_type": "execute_result"
    }
   ],
   "source": [
    "supplier_data_info.describe()"
   ]
  },
  {
   "cell_type": "code",
   "execution_count": 46,
   "metadata": {
    "collapsed": false,
    "scrolled": false
   },
   "outputs": [
    {
     "data": {
      "text/html": [
       "<div>\n",
       "<table border=\"1\" class=\"dataframe\">\n",
       "  <thead>\n",
       "    <tr style=\"text-align: right;\">\n",
       "      <th></th>\n",
       "      <th>city_id</th>\n",
       "      <th>fee_per_user_label</th>\n",
       "      <th>order_shuliang_label</th>\n",
       "      <th>active_label</th>\n",
       "      <th>create_day_label</th>\n",
       "    </tr>\n",
       "    <tr>\n",
       "      <th>supplier_id</th>\n",
       "      <th></th>\n",
       "      <th></th>\n",
       "      <th></th>\n",
       "      <th></th>\n",
       "      <th></th>\n",
       "    </tr>\n",
       "  </thead>\n",
       "  <tbody>\n",
       "    <tr>\n",
       "      <th>125</th>\n",
       "      <td>1</td>\n",
       "      <td>20-25yuan</td>\n",
       "      <td>500+order</td>\n",
       "      <td>high</td>\n",
       "      <td>15-30day</td>\n",
       "    </tr>\n",
       "    <tr>\n",
       "      <th>148</th>\n",
       "      <td>1</td>\n",
       "      <td>30-35yuan</td>\n",
       "      <td>200-500order</td>\n",
       "      <td>high</td>\n",
       "      <td>30+day</td>\n",
       "    </tr>\n",
       "    <tr>\n",
       "      <th>156</th>\n",
       "      <td>1</td>\n",
       "      <td>30-35yuan</td>\n",
       "      <td>500+order</td>\n",
       "      <td>high</td>\n",
       "      <td>30+day</td>\n",
       "    </tr>\n",
       "    <tr>\n",
       "      <th>193</th>\n",
       "      <td>1</td>\n",
       "      <td>30-35yuan</td>\n",
       "      <td>200-500order</td>\n",
       "      <td>high</td>\n",
       "      <td>30+day</td>\n",
       "    </tr>\n",
       "    <tr>\n",
       "      <th>216</th>\n",
       "      <td>1</td>\n",
       "      <td>20-25yuan</td>\n",
       "      <td>500+order</td>\n",
       "      <td>high</td>\n",
       "      <td>15-30day</td>\n",
       "    </tr>\n",
       "  </tbody>\n",
       "</table>\n",
       "</div>"
      ],
      "text/plain": [
       "             city_id fee_per_user_label order_shuliang_label active_label  \\\n",
       "supplier_id                                                                 \n",
       "125                1          20-25yuan            500+order         high   \n",
       "148                1          30-35yuan         200-500order         high   \n",
       "156                1          30-35yuan            500+order         high   \n",
       "193                1          30-35yuan         200-500order         high   \n",
       "216                1          20-25yuan            500+order         high   \n",
       "\n",
       "            create_day_label  \n",
       "supplier_id                   \n",
       "125                 15-30day  \n",
       "148                   30+day  \n",
       "156                   30+day  \n",
       "193                   30+day  \n",
       "216                 15-30day  "
      ]
     },
     "execution_count": 46,
     "metadata": {},
     "output_type": "execute_result"
    }
   ],
   "source": [
    "#商户画像\n",
    "supplier_data = pd.read_csv('supplier_photo.csv', index_col = 1)\n",
    "del supplier_data['create_dt']\n",
    "supplier_data.head()"
   ]
  },
  {
   "cell_type": "markdown",
   "metadata": {},
   "source": [
    "## 城市"
   ]
  },
  {
   "cell_type": "code",
   "execution_count": 27,
   "metadata": {
    "collapsed": false,
    "scrolled": true
   },
   "outputs": [
    {
     "data": {
      "text/plain": [
       "<matplotlib.axes._subplots.AxesSubplot at 0xdf02198>"
      ]
     },
     "execution_count": 27,
     "metadata": {},
     "output_type": "execute_result"
    },
    {
     "data": {
      "image/png": "[encoded data removed]",
      "text/plain": [
       "<matplotlib.figure.Figure at 0xbab5d30>"
      ]
     },
     "metadata": {},
     "output_type": "display_data"
    }
   ],
   "source": [
    "supplier_data.ix[:,'city_id'].value_counts().sort_index().plot(kind='bar',title= 'city_id')"
   ]
  },
  {
   "cell_type": "markdown",
   "metadata": {},
   "source": [
    "## 客单价"
   ]
  },
  {
   "cell_type": "code",
   "execution_count": 28,
   "metadata": {
    "collapsed": false,
    "scrolled": true
   },
   "outputs": [
    {
     "data": {
      "text/plain": [
       "<matplotlib.axes._subplots.AxesSubplot at 0xe557e80>"
      ]
     },
     "execution_count": 28,
     "metadata": {},
     "output_type": "execute_result"
    },
    {
     "data": {
      "image/png": "[encoded data removed]",
      "text/plain": [
       "<matplotlib.figure.Figure at 0xd45b4a8>"
      ]
     },
     "metadata": {},
     "output_type": "display_data"
    }
   ],
   "source": [
    "supplier_data_info[supplier_data_info.fee_per_user < 500]['fee_per_user'].hist(bins = 50)"
   ]
  },
  {
   "cell_type": "markdown",
   "metadata": {},
   "source": [
    "（拆一下）\n"
   ]
  },
  {
   "cell_type": "code",
   "execution_count": 47,
   "metadata": {
    "collapsed": false,
    "scrolled": false
   },
   "outputs": [
    {
     "data": {
      "text/plain": [
       "<matplotlib.axes._subplots.AxesSubplot at 0x108beb38>"
      ]
     },
     "execution_count": 47,
     "metadata": {},
     "output_type": "execute_result"
    },
    {
     "data": {
      "image/png": "[encoded data removed]",
      "text/plain": [
       "<matplotlib.figure.Figure at 0x110dab70>"
      ]
     },
     "metadata": {},
     "output_type": "display_data"
    }
   ],
   "source": [
    "supplier_data.ix[:,'fee_per_user_label'].value_counts().sort_index().plot(kind='bar',title= 'fee_per_user_label')"
   ]
  },
  {
   "cell_type": "code",
   "execution_count": 30,
   "metadata": {
    "collapsed": false,
    "scrolled": true
   },
   "outputs": [
    {
     "data": {
      "text/plain": [
       "20-30yuan    0.564327\n",
       "30-40yuan    0.355291\n",
       "40+yuan      0.079870\n",
       "0-20yuan     0.000512\n",
       "Name: fee_per_user_label, dtype: float64"
      ]
     },
     "execution_count": 30,
     "metadata": {},
     "output_type": "execute_result"
    }
   ],
   "source": [
    "supplier_data.ix[:,'fee_per_user_label'].value_counts() /supplier_data.ix[:,'fee_per_user_label'].count()"
   ]
  },
  {
   "cell_type": "markdown",
   "metadata": {},
   "source": [
    "### 客单价各个区间的比重 \n",
    "\n",
    "|   名字    | 0-20yuan | 20-30yuan  | 30-40yuan | 40+yuan |\n",
    "|  :--------: |:--------:|:----------:|:---------:|:---- --:|\n",
    "|    占比   |  0.50%  |  56.43%   |  32.53 %  | 7.99 %  |  "
   ]
  },
  {
   "cell_type": "markdown",
   "metadata": {},
   "source": [
    "## 订单量"
   ]
  },
  {
   "cell_type": "code",
   "execution_count": 31,
   "metadata": {
    "collapsed": false,
    "scrolled": true
   },
   "outputs": [
    {
     "data": {
      "text/plain": [
       "<matplotlib.axes._subplots.AxesSubplot at 0xeb97b70>"
      ]
     },
     "execution_count": 31,
     "metadata": {},
     "output_type": "execute_result"
    },
    {
     "data": {
      "image/png": "[encoded data removed]",
      "text/plain": [
       "<matplotlib.figure.Figure at 0xea0d780>"
      ]
     },
     "metadata": {},
     "output_type": "display_data"
    }
   ],
   "source": [
    "supplier_data_info[supplier_data_info.order_shuliang < 3000]['order_shuliang'].hist(bins = 50)"
   ]
  },
  {
   "cell_type": "code",
   "execution_count": 32,
   "metadata": {
    "collapsed": false,
    "scrolled": true
   },
   "outputs": [
    {
     "data": {
      "text/plain": [
       "<matplotlib.axes._subplots.AxesSubplot at 0x103ed908>"
      ]
     },
     "execution_count": 32,
     "metadata": {},
     "output_type": "execute_result"
    },
    {
     "data": {
      "image/png": "[encoded data removed]",
      "text/plain": [
       "<matplotlib.figure.Figure at 0xe8dbef0>"
      ]
     },
     "metadata": {},
     "output_type": "display_data"
    }
   ],
   "source": [
    "supplier_data.ix[:,'order_shuliang_label'].value_counts().sort_index().plot(kind='bar',title= 'order_shuliang_label')"
   ]
  },
  {
   "cell_type": "code",
   "execution_count": 33,
   "metadata": {
    "collapsed": false,
    "scrolled": true
   },
   "outputs": [
    {
     "data": {
      "text/plain": [
       "200-500order    0.249532\n",
       "500+order       0.207698\n",
       "100-200order    0.179526\n",
       "10-50order      0.155055\n",
       "50-100order     0.131568\n",
       "0-10order       0.076622\n",
       "Name: order_shuliang_label, dtype: float64"
      ]
     },
     "execution_count": 33,
     "metadata": {},
     "output_type": "execute_result"
    }
   ],
   "source": [
    "supplier_data.ix[:,'order_shuliang_label'].value_counts() /supplier_data.ix[:,'fee_per_user_label'].count()"
   ]
  },
  {
   "cell_type": "markdown",
   "metadata": {},
   "source": [
    "### 总单量各个区间的比重 \n",
    "\n",
    "|   名字    | 0-10order | 10-50order | 50-100order | 100-200order | 200-500order | 500+order|\n",
    "|  :--------: |:---------:|:----------:|:-----------:|:------------:|:------------:|:--------:|\n",
    "|    占比   |  7.66%   |  15.51%   |  13.16 %   |   17.95%   |   24.95%   |  20.77%  |"
   ]
  },
  {
   "cell_type": "markdown",
   "metadata": {},
   "source": [
    "## 活跃率"
   ]
  },
  {
   "cell_type": "code",
   "execution_count": 34,
   "metadata": {
    "collapsed": false,
    "scrolled": false
   },
   "outputs": [
    {
     "data": {
      "text/plain": [
       "<matplotlib.axes._subplots.AxesSubplot at 0xee7e550>"
      ]
     },
     "execution_count": 34,
     "metadata": {},
     "output_type": "execute_result"
    },
    {
     "data": {
      "image/png": "[encoded data removed]",
      "text/plain": [
       "<matplotlib.figure.Figure at 0xef01438>"
      ]
     },
     "metadata": {},
     "output_type": "display_data"
    }
   ],
   "source": [
    "supplier_data_info['active_lv'].hist(bins = 10)"
   ]
  },
  {
   "cell_type": "code",
   "execution_count": 48,
   "metadata": {
    "collapsed": false,
    "scrolled": true
   },
   "outputs": [
    {
     "data": {
      "text/plain": [
       "<matplotlib.axes._subplots.AxesSubplot at 0x114f3320>"
      ]
     },
     "execution_count": 48,
     "metadata": {},
     "output_type": "execute_result"
    },
    {
     "data": {
      "image/png": "[encoded data removed]",
      "text/plain": [
       "<matplotlib.figure.Figure at 0x111dd3c8>"
      ]
     },
     "metadata": {},
     "output_type": "display_data"
    }
   ],
   "source": [
    "supplier_data.ix[:,'active_label'].value_counts().plot(kind='bar',title= 'active_label')"
   ]
  },
  {
   "cell_type": "code",
   "execution_count": 49,
   "metadata": {
    "collapsed": false,
    "scrolled": true
   },
   "outputs": [
    {
     "data": {
      "text/plain": [
       "high    0.696191\n",
       "low     0.303809\n",
       "Name: active_label, dtype: float64"
      ]
     },
     "execution_count": 49,
     "metadata": {},
     "output_type": "execute_result"
    }
   ],
   "source": [
    "supplier_data.ix[:,'active_label'].value_counts() /supplier_data.ix[:,'active_label'].count()"
   ]
  },
  {
   "cell_type": "markdown",
   "metadata": {},
   "source": [
    "### 各个区间的活跃率比重 \n",
    "\n",
    "|   名字    |  high  | low |\n",
    "|  :--------: |:--------:|:------:|\n",
    "|    占比   |  69.62 %  |  30.38% |"
   ]
  },
  {
   "cell_type": "markdown",
   "metadata": {},
   "source": [
    "## 距离第一次订单时间"
   ]
  },
  {
   "cell_type": "code",
   "execution_count": 36,
   "metadata": {
    "collapsed": false,
    "scrolled": false
   },
   "outputs": [
    {
     "data": {
      "text/plain": [
       "<matplotlib.axes._subplots.AxesSubplot at 0x1066a908>"
      ]
     },
     "execution_count": 36,
     "metadata": {},
     "output_type": "execute_result"
    },
    {
     "data": {
      "image/png": "[encoded data removed]",
      "text/plain": [
       "<matplotlib.figure.Figure at 0x10a755c0>"
      ]
     },
     "metadata": {},
     "output_type": "display_data"
    }
   ],
   "source": [
    "supplier_data_info['supplier_first_date'].hist(bins = 50)"
   ]
  },
  {
   "cell_type": "code",
   "execution_count": 39,
   "metadata": {
    "collapsed": false,
    "scrolled": false
   },
   "outputs": [
    {
     "data": {
      "text/plain": [
       "<matplotlib.axes._subplots.AxesSubplot at 0x10f9f8d0>"
      ]
     },
     "execution_count": 39,
     "metadata": {},
     "output_type": "execute_result"
    },
    {
     "data": {
      "image/png": "[encoded data removed]",
      "text/plain": [
       "<matplotlib.figure.Figure at 0x10c3ceb8>"
      ]
     },
     "metadata": {},
     "output_type": "display_data"
    }
   ],
   "source": [
    "supplier_data.ix[:,'create_day_label'].value_counts().sort_index().plot(kind='bar',title= 'create_day_label')"
   ]
  },
  {
   "cell_type": "code",
   "execution_count": 50,
   "metadata": {
    "collapsed": false,
    "scrolled": false
   },
   "outputs": [
    {
     "data": {
      "text/plain": [
       "15-30day    0.446520\n",
       "30+day      0.255025\n",
       "7-15day     0.187814\n",
       "3-7day      0.090304\n",
       "0-3day      0.020337\n",
       "Name: create_day_label, dtype: float64"
      ]
     },
     "execution_count": 50,
     "metadata": {},
     "output_type": "execute_result"
    }
   ],
   "source": [
    "supplier_data.ix[:,'create_day_label'].value_counts() /supplier_data.ix[:,'create_day_label'].count()"
   ]
  },
  {
   "cell_type": "markdown",
   "metadata": {},
   "source": [
    "### 总单量各个区间的比重 \n",
    "\n",
    "|   名字    |  0-3day  | 3-7day | 7-15day | 15-30day | 30+day |\n",
    "|  :--------: |:--------:|:------:|:-------:|:--------:|:------:|\n",
    "|    占比   |  2.03 %  |  9.03% |  18.78% |  44.65%  | 25.50% |"
   ]
  }
 ],
 "metadata": {
  "kernelspec": {
   "display_name": "Python 2",
   "language": "python",
   "name": "python2"
  },
  "language_info": {
   "codemirror_mode": {
    "name": "ipython",
    "version": 2
   },
   "file_extension": ".py",
   "mimetype": "text/x-python",
   "name": "python",
   "nbconvert_exporter": "python",
   "pygments_lexer": "ipython2",
   "version": "2.7.11"
  }
 },
 "nbformat": 4,
 "nbformat_minor": 0
}
