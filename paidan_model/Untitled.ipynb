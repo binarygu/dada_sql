{
 "cells": [
  {
   "cell_type": "code",
   "execution_count": 2,
   "metadata": {
    "collapsed": false
   },
   "outputs": [
    {
     "name": "stderr",
     "output_type": "stream",
     "text": [
      "c:\\python27\\lib\\site-packages\\matplotlib\\__init__.py:872: UserWarning: axes.color_cycle is deprecated and replaced with axes.prop_cycle; please use the latter.\n",
      "  warnings.warn(self.msg_depr % (key, alt_key))\n"
     ]
    }
   ],
   "source": [
    "import pandas as pd\n",
    "import numpy as np\n",
    "import seaborn as sns\n",
    "import matplotlib.pyplot as plt\n",
    "\n",
    "from sklearn.ensemble import RandomForestClassifier\n",
    "from sklearn.ensemble import GradientBoostingClassifier\n",
    "from sklearn.svm import LinearSVC\n",
    "from sklearn.svm import SVC\n",
    "from sklearn.linear_model import LogisticRegression\n",
    "\n",
    "from sklearn.pipeline import Pipeline\n",
    "from sklearn.grid_search import GridSearchCV\n",
    "from sklearn import preprocessing\n",
    "from sklearn.feature_selection import SelectFromModel\n",
    "\n",
    "from sklearn.metrics import f1_score\n",
    "from sklearn.metrics import precision_score\n",
    "from sklearn.metrics import recall_score\n",
    "from sklearn.metrics import roc_auc_score \n",
    "from sklearn.metrics import accuracy_score\n",
    "from sklearn.metrics import confusion_matrix"
   ]
  },
  {
   "cell_type": "code",
   "execution_count": 4,
   "metadata": {
    "collapsed": false,
    "scrolled": true
   },
   "outputs": [
    {
     "ename": "ValueError",
     "evalue": "invalid literal for float(): 2015/12/16",
     "output_type": "error",
     "traceback": [
      "\u001b[1;31m---------------------------------------------------------------------------\u001b[0m",
      "\u001b[1;31mValueError\u001b[0m                                Traceback (most recent call last)",
      "\u001b[1;32m<ipython-input-4-5fe4102abe7d>\u001b[0m in \u001b[0;36m<module>\u001b[1;34m()\u001b[0m\n\u001b[0;32m     38\u001b[0m \u001b[0mx20\u001b[0m\u001b[1;33m,\u001b[0m\u001b[0my20\u001b[0m \u001b[1;33m=\u001b[0m \u001b[0mdata_process\u001b[0m\u001b[1;33m(\u001b[0m\u001b[0mpaidan_data20\u001b[0m\u001b[1;33m)\u001b[0m\u001b[1;33m\u001b[0m\u001b[0m\n\u001b[0;32m     39\u001b[0m \u001b[1;33m\u001b[0m\u001b[0m\n\u001b[1;32m---> 40\u001b[1;33m \u001b[0mclf16\u001b[0m \u001b[1;33m=\u001b[0m \u001b[0mtrain_model\u001b[0m\u001b[1;33m(\u001b[0m\u001b[0mx16\u001b[0m\u001b[1;33m,\u001b[0m\u001b[0my16\u001b[0m\u001b[1;33m)\u001b[0m\u001b[1;33m\u001b[0m\u001b[0m\n\u001b[0m\u001b[0;32m     41\u001b[0m \u001b[0mclf17\u001b[0m \u001b[1;33m=\u001b[0m \u001b[0mtrain_model\u001b[0m\u001b[1;33m(\u001b[0m\u001b[0mx17\u001b[0m\u001b[1;33m,\u001b[0m\u001b[0my17\u001b[0m\u001b[1;33m)\u001b[0m\u001b[1;33m\u001b[0m\u001b[0m\n\u001b[0;32m     42\u001b[0m \u001b[0mclf18\u001b[0m \u001b[1;33m=\u001b[0m \u001b[0mtrain_model\u001b[0m\u001b[1;33m(\u001b[0m\u001b[0mx18\u001b[0m\u001b[1;33m,\u001b[0m\u001b[0my18\u001b[0m\u001b[1;33m)\u001b[0m\u001b[1;33m\u001b[0m\u001b[0m\n",
      "\u001b[1;32m<ipython-input-4-5fe4102abe7d>\u001b[0m in \u001b[0;36mtrain_model\u001b[1;34m(x_train, y_train)\u001b[0m\n\u001b[0;32m     22\u001b[0m \u001b[1;32mdef\u001b[0m \u001b[0mtrain_model\u001b[0m\u001b[1;33m(\u001b[0m\u001b[0mx_train\u001b[0m\u001b[1;33m,\u001b[0m\u001b[0my_train\u001b[0m\u001b[1;33m)\u001b[0m\u001b[1;33m:\u001b[0m\u001b[1;33m\u001b[0m\u001b[0m\n\u001b[0;32m     23\u001b[0m     \u001b[0mclf\u001b[0m \u001b[1;33m=\u001b[0m \u001b[0mLogisticRegression\u001b[0m\u001b[1;33m(\u001b[0m\u001b[0mC\u001b[0m \u001b[1;33m=\u001b[0m \u001b[1;36m100\u001b[0m\u001b[1;33m)\u001b[0m\u001b[1;33m\u001b[0m\u001b[0m\n\u001b[1;32m---> 24\u001b[1;33m     \u001b[0mclf\u001b[0m\u001b[1;33m.\u001b[0m\u001b[0mfit\u001b[0m\u001b[1;33m(\u001b[0m\u001b[0mx_train\u001b[0m\u001b[1;33m,\u001b[0m\u001b[0my_train\u001b[0m\u001b[1;33m)\u001b[0m\u001b[1;33m\u001b[0m\u001b[0m\n\u001b[0m\u001b[0;32m     25\u001b[0m     \u001b[1;32mreturn\u001b[0m \u001b[0mclf\u001b[0m\u001b[1;33m\u001b[0m\u001b[0m\n\u001b[0;32m     26\u001b[0m \u001b[1;33m\u001b[0m\u001b[0m\n",
      "\u001b[1;32mc:\\python27\\lib\\site-packages\\scikit_learn-0.17-py2.7-win-amd64.egg\\sklearn\\linear_model\\logistic.pyc\u001b[0m in \u001b[0;36mfit\u001b[1;34m(self, X, y, sample_weight)\u001b[0m\n\u001b[0;32m   1140\u001b[0m \u001b[1;33m\u001b[0m\u001b[0m\n\u001b[0;32m   1141\u001b[0m         X, y = check_X_y(X, y, accept_sparse='csr', dtype=np.float64, \n\u001b[1;32m-> 1142\u001b[1;33m                          order=\"C\")\n\u001b[0m\u001b[0;32m   1143\u001b[0m         \u001b[0mcheck_classification_targets\u001b[0m\u001b[1;33m(\u001b[0m\u001b[0my\u001b[0m\u001b[1;33m)\u001b[0m\u001b[1;33m\u001b[0m\u001b[0m\n\u001b[0;32m   1144\u001b[0m         \u001b[0mself\u001b[0m\u001b[1;33m.\u001b[0m\u001b[0mclasses_\u001b[0m \u001b[1;33m=\u001b[0m \u001b[0mnp\u001b[0m\u001b[1;33m.\u001b[0m\u001b[0munique\u001b[0m\u001b[1;33m(\u001b[0m\u001b[0my\u001b[0m\u001b[1;33m)\u001b[0m\u001b[1;33m\u001b[0m\u001b[0m\n",
      "\u001b[1;32mc:\\python27\\lib\\site-packages\\scikit_learn-0.17-py2.7-win-amd64.egg\\sklearn\\utils\\validation.pyc\u001b[0m in \u001b[0;36mcheck_X_y\u001b[1;34m(X, y, accept_sparse, dtype, order, copy, force_all_finite, ensure_2d, allow_nd, multi_output, ensure_min_samples, ensure_min_features, y_numeric, warn_on_dtype, estimator)\u001b[0m\n\u001b[0;32m    508\u001b[0m     X = check_array(X, accept_sparse, dtype, order, copy, force_all_finite,\n\u001b[0;32m    509\u001b[0m                     \u001b[0mensure_2d\u001b[0m\u001b[1;33m,\u001b[0m \u001b[0mallow_nd\u001b[0m\u001b[1;33m,\u001b[0m \u001b[0mensure_min_samples\u001b[0m\u001b[1;33m,\u001b[0m\u001b[1;33m\u001b[0m\u001b[0m\n\u001b[1;32m--> 510\u001b[1;33m                     ensure_min_features, warn_on_dtype, estimator)\n\u001b[0m\u001b[0;32m    511\u001b[0m     \u001b[1;32mif\u001b[0m \u001b[0mmulti_output\u001b[0m\u001b[1;33m:\u001b[0m\u001b[1;33m\u001b[0m\u001b[0m\n\u001b[0;32m    512\u001b[0m         y = check_array(y, 'csr', force_all_finite=True, ensure_2d=False,\n",
      "\u001b[1;32mc:\\python27\\lib\\site-packages\\scikit_learn-0.17-py2.7-win-amd64.egg\\sklearn\\utils\\validation.pyc\u001b[0m in \u001b[0;36mcheck_array\u001b[1;34m(array, accept_sparse, dtype, order, copy, force_all_finite, ensure_2d, allow_nd, ensure_min_samples, ensure_min_features, warn_on_dtype, estimator)\u001b[0m\n\u001b[0;32m    371\u001b[0m                                       force_all_finite)\n\u001b[0;32m    372\u001b[0m     \u001b[1;32melse\u001b[0m\u001b[1;33m:\u001b[0m\u001b[1;33m\u001b[0m\u001b[0m\n\u001b[1;32m--> 373\u001b[1;33m         \u001b[0marray\u001b[0m \u001b[1;33m=\u001b[0m \u001b[0mnp\u001b[0m\u001b[1;33m.\u001b[0m\u001b[0marray\u001b[0m\u001b[1;33m(\u001b[0m\u001b[0marray\u001b[0m\u001b[1;33m,\u001b[0m \u001b[0mdtype\u001b[0m\u001b[1;33m=\u001b[0m\u001b[0mdtype\u001b[0m\u001b[1;33m,\u001b[0m \u001b[0morder\u001b[0m\u001b[1;33m=\u001b[0m\u001b[0morder\u001b[0m\u001b[1;33m,\u001b[0m \u001b[0mcopy\u001b[0m\u001b[1;33m=\u001b[0m\u001b[0mcopy\u001b[0m\u001b[1;33m)\u001b[0m\u001b[1;33m\u001b[0m\u001b[0m\n\u001b[0m\u001b[0;32m    374\u001b[0m \u001b[1;33m\u001b[0m\u001b[0m\n\u001b[0;32m    375\u001b[0m         \u001b[1;32mif\u001b[0m \u001b[0mensure_2d\u001b[0m\u001b[1;33m:\u001b[0m\u001b[1;33m\u001b[0m\u001b[0m\n",
      "\u001b[1;31mValueError\u001b[0m: invalid literal for float(): 2015/12/16"
     ]
    }
   ],
   "source": [
    "#读入数据()\n",
    "paidan_data16 = pd.read_csv('paidan_data/paidan_model_test_data_1216.csv',index_col = 1)\n",
    "paidan_data17 = pd.read_csv('paidan_data/paidan_model_test_data_1217.csv',index_col = 1)\n",
    "paidan_data18 = pd.read_csv('paidan_data/paidan_model_test_data_1218.csv',index_col = 1)\n",
    "paidan_data19 = pd.read_csv('paidan_data/paidan_model_test_data_1219.csv',index_col = 1)\n",
    "paidan_data20 = pd.read_csv('paidan_data/paidan_model_test_data_1220.csv',index_col = 1)\n",
    "\n",
    "\n",
    "def data_process(data):\n",
    "    paidan_data = pd.DataFrame(data)\n",
    "    paidan_data = paidan_data.fillna(value = 0)\n",
    "    paidan_data.loc[paidan_data.paidan_receiver_distance_jiedan_receiver_max > 10000,\"paidan_receiver_distance_jiedan_receiver_max\"] = paidan_data[\"paidan_receiver_distance_jiedan_receiver_max\"][paidan_data.paidan_receiver_distance_jiedan_receiver_max < 10000].mean()\n",
    "    paidan_data.loc[paidan_data.paidan_receiver_distance_jiedan_receiver_min > 10000,\"paidan_receiver_distance_jiedan_receiver_min\"] = paidan_data[\"paidan_receiver_distance_jiedan_receiver_min\"][paidan_data.paidan_receiver_distance_jiedan_receiver_min < 10000].mean()\n",
    "    paidan_data.loc[paidan_data.paidan_supplier_distance_jiedan_receiver_max > 10000,\"paidan_supplier_distance_jiedan_receiver_max\"] = paidan_data[\"paidan_supplier_distance_jiedan_receiver_max\"][paidan_data.paidan_supplier_distance_jiedan_receiver_max < 10000].mean()\n",
    "    paidan_data.loc[paidan_data.paidan_supplier_distance_jiedan_receiver_min > 10000,\"paidan_supplier_distance_jiedan_receiver_min\"] = paidan_data[\"paidan_supplier_distance_jiedan_receiver_min\"][paidan_data.paidan_supplier_distance_jiedan_receiver_min < 10000].mean()\n",
    "    paidan_data.loc[paidan_data.supplier_receiver_distance > 10000,\"supplier_receiver_distance\"] = paidan_data[\"supplier_receiver_distance\"][paidan_data.supplier_receiver_distance < 10000].mean()\n",
    "    paidan_data.loc[paidan_data.transporter_supplier_distance > 10000,\"transporter_supplier_distance\"] = paidan_data[\"transporter_supplier_distance\"][paidan_data.transporter_supplier_distance < 10000].mean()\n",
    "    x = paidan_data.ix[:,:-1]\n",
    "    y = paidan_data.ix[:,-1]\n",
    "    return x,y\n",
    "\n",
    "def train_model(x_train,y_train):\n",
    "    clf = LogisticRegression(C = 100)\n",
    "    clf.fit(x_train,y_train)\n",
    "    return clf\n",
    "\n",
    "def test_model(clf,x_test,y_test):\n",
    "    label_pre = clf.predict(x_test)\n",
    "    acs = accuracy_score(y_test,label_pre)\n",
    "    prec = precision_score(y_test,label_pre)\n",
    "    auc = roc_auc_score(y_test,label_pre)\n",
    "    return acs,prec,auc\n",
    "\n",
    "x16,y16 = data_process(paidan_data16)\n",
    "x17,y17 = data_process(paidan_data17)\n",
    "x18,y18 = data_process(paidan_data18)\n",
    "x19,y19 = data_process(paidan_data19)\n",
    "x20,y20 = data_process(paidan_data20)\n",
    "\n",
    "clf16 = train_model(x16,y16)\n",
    "clf17 = train_model(x17,y17)\n",
    "clf18 = train_model(x18,y18)\n",
    "clf19 = train_model(x19,y19)\n",
    "clf20 = train_model(x20,y20)\n",
    "\n",
    "acs16,prec16,auc16 = test_model(clf16,x16,y16)\n",
    "acs17,prec17,auc17 = test_model(clf17,x17,y17)\n",
    "acs18,prec18,auc18 = test_model(clf18,x18,y18)\n",
    "acs19,prec19,auc19 = test_model(clf19,x19,y19)\n",
    "acs20,prec20,auc20 = test_model(clf20,x20,y20)\n",
    "\n",
    "\n",
    "\n",
    "\n",
    "print acs16,prec16,auc16 \n",
    "print acs17,prec17,auc17\n",
    "print acs18,prec18,auc18\n",
    "print acs19,prec19,auc19\n",
    "print acs20,prec20,auc20\n",
    "\n",
    "print (acs16+acs17+acs18+acs19+acs20)/5,(prec16+prec17+prec18+prec19+prec20)/5,(auc16+auc17+auc18+auc19+auc20)/5"
   ]
  },
  {
   "cell_type": "code",
   "execution_count": 5,
   "metadata": {
    "collapsed": false
   },
   "outputs": [
    {
     "data": {
      "text/html": [
       "<div>\n",
       "<table border=\"1\" class=\"dataframe\">\n",
       "  <thead>\n",
       "    <tr style=\"text-align: right;\">\n",
       "      <th></th>\n",
       "      <th>paidan_hour</th>\n",
       "      <th>order_source_from</th>\n",
       "      <th>is_cargo_advance_needed</th>\n",
       "      <th>tips_amt</th>\n",
       "      <th>allowance_amt</th>\n",
       "      <th>deliver_fee_amt</th>\n",
       "      <th>fee_sum</th>\n",
       "      <th>transporter_before_one_day_paidan_num</th>\n",
       "      <th>transporter_before_one_day_paidan_success_num</th>\n",
       "      <th>transporter_before_one_day_paidan_lv</th>\n",
       "      <th>...</th>\n",
       "      <th>supplier_receiver_distance</th>\n",
       "      <th>paidan_supplier_distance_jiedan_receiver_min</th>\n",
       "      <th>paidan_supplier_distance_jiedan_receiver_max</th>\n",
       "      <th>paidan_receiver_distance_jiedan_receiver_min</th>\n",
       "      <th>paidan_receiver_distance_jiedan_receiver_max</th>\n",
       "      <th>paidan_supplier_distance_jiedan_supplier_min</th>\n",
       "      <th>paidan_supplier_distance_jiedan_supplier_max</th>\n",
       "      <th>paidan_receiver_distance_jiedan_supplier_min</th>\n",
       "      <th>paidan_receiver_distance_jiedan_supplier_max</th>\n",
       "      <th>label</th>\n",
       "    </tr>\n",
       "  </thead>\n",
       "  <tbody>\n",
       "    <tr>\n",
       "      <th>count</th>\n",
       "      <td>21987.000000</td>\n",
       "      <td>21987.000000</td>\n",
       "      <td>21987.000000</td>\n",
       "      <td>21987.000000</td>\n",
       "      <td>21987.000000</td>\n",
       "      <td>21987.000000</td>\n",
       "      <td>21987.000000</td>\n",
       "      <td>21291.000000</td>\n",
       "      <td>21291.000000</td>\n",
       "      <td>18629.000000</td>\n",
       "      <td>...</td>\n",
       "      <td>21987.000000</td>\n",
       "      <td>5609.000000</td>\n",
       "      <td>5609.000000</td>\n",
       "      <td>5609.000000</td>\n",
       "      <td>5609.000000</td>\n",
       "      <td>3312.000000</td>\n",
       "      <td>3312.000000</td>\n",
       "      <td>3312.000000</td>\n",
       "      <td>3312.000000</td>\n",
       "      <td>21987.000000</td>\n",
       "    </tr>\n",
       "    <tr>\n",
       "      <th>mean</th>\n",
       "      <td>14.879383</td>\n",
       "      <td>0.137809</td>\n",
       "      <td>0.147815</td>\n",
       "      <td>0.054532</td>\n",
       "      <td>4.512849</td>\n",
       "      <td>3.108200</td>\n",
       "      <td>7.621049</td>\n",
       "      <td>12.139543</td>\n",
       "      <td>4.119487</td>\n",
       "      <td>0.343655</td>\n",
       "      <td>...</td>\n",
       "      <td>5718.785509</td>\n",
       "      <td>625.859929</td>\n",
       "      <td>2242.872574</td>\n",
       "      <td>226.502421</td>\n",
       "      <td>1935.732114</td>\n",
       "      <td>123.187003</td>\n",
       "      <td>175.949207</td>\n",
       "      <td>738.132187</td>\n",
       "      <td>774.952544</td>\n",
       "      <td>-0.373266</td>\n",
       "    </tr>\n",
       "    <tr>\n",
       "      <th>std</th>\n",
       "      <td>3.867590</td>\n",
       "      <td>0.344707</td>\n",
       "      <td>0.354924</td>\n",
       "      <td>0.431394</td>\n",
       "      <td>3.529702</td>\n",
       "      <td>1.184967</td>\n",
       "      <td>3.654359</td>\n",
       "      <td>11.515918</td>\n",
       "      <td>5.357725</td>\n",
       "      <td>0.277918</td>\n",
       "      <td>...</td>\n",
       "      <td>183836.278731</td>\n",
       "      <td>559.702096</td>\n",
       "      <td>100959.091444</td>\n",
       "      <td>347.384410</td>\n",
       "      <td>100964.591714</td>\n",
       "      <td>262.150930</td>\n",
       "      <td>299.200339</td>\n",
       "      <td>602.684832</td>\n",
       "      <td>611.266243</td>\n",
       "      <td>0.927745</td>\n",
       "    </tr>\n",
       "    <tr>\n",
       "      <th>min</th>\n",
       "      <td>0.000000</td>\n",
       "      <td>0.000000</td>\n",
       "      <td>0.000000</td>\n",
       "      <td>0.000000</td>\n",
       "      <td>0.000000</td>\n",
       "      <td>2.000000</td>\n",
       "      <td>2.000000</td>\n",
       "      <td>0.000000</td>\n",
       "      <td>0.000000</td>\n",
       "      <td>0.000000</td>\n",
       "      <td>...</td>\n",
       "      <td>1.463321</td>\n",
       "      <td>0.000000</td>\n",
       "      <td>0.000000</td>\n",
       "      <td>0.000000</td>\n",
       "      <td>0.000000</td>\n",
       "      <td>0.000000</td>\n",
       "      <td>0.000000</td>\n",
       "      <td>0.000000</td>\n",
       "      <td>0.000000</td>\n",
       "      <td>-1.000000</td>\n",
       "    </tr>\n",
       "    <tr>\n",
       "      <th>25%</th>\n",
       "      <td>11.000000</td>\n",
       "      <td>0.000000</td>\n",
       "      <td>0.000000</td>\n",
       "      <td>0.000000</td>\n",
       "      <td>3.000000</td>\n",
       "      <td>2.000000</td>\n",
       "      <td>6.000000</td>\n",
       "      <td>3.000000</td>\n",
       "      <td>0.000000</td>\n",
       "      <td>0.100000</td>\n",
       "      <td>...</td>\n",
       "      <td>490.573891</td>\n",
       "      <td>231.734192</td>\n",
       "      <td>352.338029</td>\n",
       "      <td>41.234914</td>\n",
       "      <td>158.671705</td>\n",
       "      <td>0.000000</td>\n",
       "      <td>0.000000</td>\n",
       "      <td>308.348935</td>\n",
       "      <td>332.296746</td>\n",
       "      <td>-1.000000</td>\n",
       "    </tr>\n",
       "    <tr>\n",
       "      <th>50%</th>\n",
       "      <td>15.000000</td>\n",
       "      <td>0.000000</td>\n",
       "      <td>0.000000</td>\n",
       "      <td>0.000000</td>\n",
       "      <td>4.000000</td>\n",
       "      <td>3.000000</td>\n",
       "      <td>7.000000</td>\n",
       "      <td>9.000000</td>\n",
       "      <td>2.000000</td>\n",
       "      <td>0.333330</td>\n",
       "      <td>...</td>\n",
       "      <td>1031.654290</td>\n",
       "      <td>455.168115</td>\n",
       "      <td>683.197226</td>\n",
       "      <td>171.656248</td>\n",
       "      <td>331.466736</td>\n",
       "      <td>21.721341</td>\n",
       "      <td>49.347774</td>\n",
       "      <td>552.589628</td>\n",
       "      <td>593.851934</td>\n",
       "      <td>-1.000000</td>\n",
       "    </tr>\n",
       "    <tr>\n",
       "      <th>75%</th>\n",
       "      <td>18.000000</td>\n",
       "      <td>0.000000</td>\n",
       "      <td>0.000000</td>\n",
       "      <td>0.000000</td>\n",
       "      <td>5.000000</td>\n",
       "      <td>4.000000</td>\n",
       "      <td>8.000000</td>\n",
       "      <td>17.000000</td>\n",
       "      <td>6.000000</td>\n",
       "      <td>0.500000</td>\n",
       "      <td>...</td>\n",
       "      <td>1728.718343</td>\n",
       "      <td>848.232494</td>\n",
       "      <td>1236.459784</td>\n",
       "      <td>295.125585</td>\n",
       "      <td>755.388761</td>\n",
       "      <td>111.897731</td>\n",
       "      <td>202.820973</td>\n",
       "      <td>1022.336971</td>\n",
       "      <td>1067.407492</td>\n",
       "      <td>1.000000</td>\n",
       "    </tr>\n",
       "    <tr>\n",
       "      <th>max</th>\n",
       "      <td>23.000000</td>\n",
       "      <td>1.000000</td>\n",
       "      <td>1.000000</td>\n",
       "      <td>19.000000</td>\n",
       "      <td>33.000000</td>\n",
       "      <td>15.000000</td>\n",
       "      <td>37.000000</td>\n",
       "      <td>85.000000</td>\n",
       "      <td>34.000000</td>\n",
       "      <td>1.000000</td>\n",
       "      <td>...</td>\n",
       "      <td>7562568.406108</td>\n",
       "      <td>4461.936879</td>\n",
       "      <td>7561744.579799</td>\n",
       "      <td>5740.740547</td>\n",
       "      <td>7561863.524295</td>\n",
       "      <td>2689.425035</td>\n",
       "      <td>2689.425035</td>\n",
       "      <td>4464.086219</td>\n",
       "      <td>4464.086219</td>\n",
       "      <td>1.000000</td>\n",
       "    </tr>\n",
       "  </tbody>\n",
       "</table>\n",
       "<p>8 rows × 78 columns</p>\n",
       "</div>"
      ],
      "text/plain": [
       "        paidan_hour  order_source_from  is_cargo_advance_needed      tips_amt  \\\n",
       "count  21987.000000       21987.000000             21987.000000  21987.000000   \n",
       "mean      14.879383           0.137809                 0.147815      0.054532   \n",
       "std        3.867590           0.344707                 0.354924      0.431394   \n",
       "min        0.000000           0.000000                 0.000000      0.000000   \n",
       "25%       11.000000           0.000000                 0.000000      0.000000   \n",
       "50%       15.000000           0.000000                 0.000000      0.000000   \n",
       "75%       18.000000           0.000000                 0.000000      0.000000   \n",
       "max       23.000000           1.000000                 1.000000     19.000000   \n",
       "\n",
       "       allowance_amt  deliver_fee_amt       fee_sum  \\\n",
       "count   21987.000000     21987.000000  21987.000000   \n",
       "mean        4.512849         3.108200      7.621049   \n",
       "std         3.529702         1.184967      3.654359   \n",
       "min         0.000000         2.000000      2.000000   \n",
       "25%         3.000000         2.000000      6.000000   \n",
       "50%         4.000000         3.000000      7.000000   \n",
       "75%         5.000000         4.000000      8.000000   \n",
       "max        33.000000        15.000000     37.000000   \n",
       "\n",
       "       transporter_before_one_day_paidan_num  \\\n",
       "count                           21291.000000   \n",
       "mean                               12.139543   \n",
       "std                                11.515918   \n",
       "min                                 0.000000   \n",
       "25%                                 3.000000   \n",
       "50%                                 9.000000   \n",
       "75%                                17.000000   \n",
       "max                                85.000000   \n",
       "\n",
       "       transporter_before_one_day_paidan_success_num  \\\n",
       "count                                   21291.000000   \n",
       "mean                                        4.119487   \n",
       "std                                         5.357725   \n",
       "min                                         0.000000   \n",
       "25%                                         0.000000   \n",
       "50%                                         2.000000   \n",
       "75%                                         6.000000   \n",
       "max                                        34.000000   \n",
       "\n",
       "       transporter_before_one_day_paidan_lv      ...       \\\n",
       "count                          18629.000000      ...        \n",
       "mean                               0.343655      ...        \n",
       "std                                0.277918      ...        \n",
       "min                                0.000000      ...        \n",
       "25%                                0.100000      ...        \n",
       "50%                                0.333330      ...        \n",
       "75%                                0.500000      ...        \n",
       "max                                1.000000      ...        \n",
       "\n",
       "       supplier_receiver_distance  \\\n",
       "count                21987.000000   \n",
       "mean                  5718.785509   \n",
       "std                 183836.278731   \n",
       "min                      1.463321   \n",
       "25%                    490.573891   \n",
       "50%                   1031.654290   \n",
       "75%                   1728.718343   \n",
       "max                7562568.406108   \n",
       "\n",
       "       paidan_supplier_distance_jiedan_receiver_min  \\\n",
       "count                                   5609.000000   \n",
       "mean                                     625.859929   \n",
       "std                                      559.702096   \n",
       "min                                        0.000000   \n",
       "25%                                      231.734192   \n",
       "50%                                      455.168115   \n",
       "75%                                      848.232494   \n",
       "max                                     4461.936879   \n",
       "\n",
       "       paidan_supplier_distance_jiedan_receiver_max  \\\n",
       "count                                   5609.000000   \n",
       "mean                                    2242.872574   \n",
       "std                                   100959.091444   \n",
       "min                                        0.000000   \n",
       "25%                                      352.338029   \n",
       "50%                                      683.197226   \n",
       "75%                                     1236.459784   \n",
       "max                                  7561744.579799   \n",
       "\n",
       "       paidan_receiver_distance_jiedan_receiver_min  \\\n",
       "count                                   5609.000000   \n",
       "mean                                     226.502421   \n",
       "std                                      347.384410   \n",
       "min                                        0.000000   \n",
       "25%                                       41.234914   \n",
       "50%                                      171.656248   \n",
       "75%                                      295.125585   \n",
       "max                                     5740.740547   \n",
       "\n",
       "       paidan_receiver_distance_jiedan_receiver_max  \\\n",
       "count                                   5609.000000   \n",
       "mean                                    1935.732114   \n",
       "std                                   100964.591714   \n",
       "min                                        0.000000   \n",
       "25%                                      158.671705   \n",
       "50%                                      331.466736   \n",
       "75%                                      755.388761   \n",
       "max                                  7561863.524295   \n",
       "\n",
       "       paidan_supplier_distance_jiedan_supplier_min  \\\n",
       "count                                   3312.000000   \n",
       "mean                                     123.187003   \n",
       "std                                      262.150930   \n",
       "min                                        0.000000   \n",
       "25%                                        0.000000   \n",
       "50%                                       21.721341   \n",
       "75%                                      111.897731   \n",
       "max                                     2689.425035   \n",
       "\n",
       "       paidan_supplier_distance_jiedan_supplier_max  \\\n",
       "count                                   3312.000000   \n",
       "mean                                     175.949207   \n",
       "std                                      299.200339   \n",
       "min                                        0.000000   \n",
       "25%                                        0.000000   \n",
       "50%                                       49.347774   \n",
       "75%                                      202.820973   \n",
       "max                                     2689.425035   \n",
       "\n",
       "       paidan_receiver_distance_jiedan_supplier_min  \\\n",
       "count                                   3312.000000   \n",
       "mean                                     738.132187   \n",
       "std                                      602.684832   \n",
       "min                                        0.000000   \n",
       "25%                                      308.348935   \n",
       "50%                                      552.589628   \n",
       "75%                                     1022.336971   \n",
       "max                                     4464.086219   \n",
       "\n",
       "       paidan_receiver_distance_jiedan_supplier_max         label  \n",
       "count                                   3312.000000  21987.000000  \n",
       "mean                                     774.952544     -0.373266  \n",
       "std                                      611.266243      0.927745  \n",
       "min                                        0.000000     -1.000000  \n",
       "25%                                      332.296746     -1.000000  \n",
       "50%                                      593.851934     -1.000000  \n",
       "75%                                     1067.407492      1.000000  \n",
       "max                                     4464.086219      1.000000  \n",
       "\n",
       "[8 rows x 78 columns]"
      ]
     },
     "execution_count": 5,
     "metadata": {},
     "output_type": "execute_result"
    }
   ],
   "source": [
    "\n",
    "paidan_data16 = pd.read_csv('paidan_data/paidan_model_test_data_1216.csv',index_col = 1)\n",
    "paidan_data16.describe()"
   ]
  },
  {
   "cell_type": "code",
   "execution_count": 79,
   "metadata": {
    "collapsed": false
   },
   "outputs": [
    {
     "name": "stdout",
     "output_type": "stream",
     "text": [
      "0.752142701762 0.652374202693 0.685199688821\n",
      "0.749692118227 0.654865771812 0.691253722681\n",
      "0.751498684608 0.690813302601 0.697496849208\n",
      "0.766105187707 0.662086667673 0.722741098398\n",
      "0.754859673076 0.665034986195 0.699172839777\n"
     ]
    }
   ],
   "source": [
    "acs16,prec16,auc16 = test_model(clf16,x17,y17)\n",
    "acs17,prec17,auc17 = test_model(clf17,x18,y18)\n",
    "acs18,prec18,auc18 = test_model(clf18,x19,y19)\n",
    "acs19,prec19,auc19 = test_model(clf19,x20,y20)\n",
    "print acs16,prec16,auc16 \n",
    "print acs17,prec17,auc17\n",
    "print acs18,prec18,auc18\n",
    "print acs19,prec19,auc19\n",
    "\n",
    "print (acs16+acs17+acs18+acs19)/4,(prec16+prec17+prec18+prec19)/4,(auc16+auc17+auc18+auc19)/4 "
   ]
  },
  {
   "cell_type": "code",
   "execution_count": 80,
   "metadata": {
    "collapsed": false
   },
   "outputs": [
    {
     "name": "stdout",
     "output_type": "stream",
     "text": [
      "0.749912033779 0.659266907589 0.689010347819\n",
      "0.749687324794 0.685161080377 0.696538524368\n",
      "0.765074814085 0.677710843373 0.710439647928\n",
      "0.754891390886 0.674046277113 0.698662840038\n"
     ]
    }
   ],
   "source": [
    "acs16,prec16,auc16 = test_model(clf16,x18,y18)\n",
    "acs17,prec17,auc17 = test_model(clf17,x19,y19)\n",
    "acs18,prec18,auc18 = test_model(clf18,x20,y20)\n",
    "\n",
    "print acs16,prec16,auc16 \n",
    "print acs17,prec17,auc17\n",
    "print acs18,prec18,auc18\n",
    "\n",
    "print (acs16+acs17+acs18)/3,(prec16+prec17+prec18)/3,(auc16+auc17+auc18)/3 "
   ]
  },
  {
   "cell_type": "code",
   "execution_count": 81,
   "metadata": {
    "collapsed": false
   },
   "outputs": [
    {
     "name": "stdout",
     "output_type": "stream",
     "text": [
      "0.749902962867 0.689609310058 0.694890621815\n",
      "0.763954842756 0.672927994727 0.710774206299\n",
      "0.756928902812 0.681268652393 0.702832414057\n"
     ]
    }
   ],
   "source": [
    "acs16,prec16,auc16 = test_model(clf16,x19,y19)\n",
    "acs17,prec17,auc17 = test_model(clf17,x20,y20)\n",
    "\n",
    "\n",
    "print acs16,prec16,auc16 \n",
    "print acs17,prec17,auc17\n",
    "\n",
    "print (acs16+acs17)/2,(prec16+prec17)/2,(auc16+auc17)/2 "
   ]
  },
  {
   "cell_type": "code",
   "execution_count": 68,
   "metadata": {
    "collapsed": false
   },
   "outputs": [
    {
     "data": {
      "text/plain": [
       "LogisticRegression(C=100, class_weight=None, dual=False, fit_intercept=True,\n",
       "          intercept_scaling=1, max_iter=100, multi_class='ovr', n_jobs=1,\n",
       "          penalty='l2', random_state=None, solver='liblinear', tol=0.0001,\n",
       "          verbose=0, warm_start=False)"
      ]
     },
     "execution_count": 68,
     "metadata": {},
     "output_type": "execute_result"
    }
   ],
   "source": [
    "\n",
    "y_train = paidan_data.iloc[:,-1]\n",
    "x_train = paidan_data.ix[:,:-1]\n",
    "lsvc = LinearSVC(C=0.00001, penalty=\"l1\", dual=False).fit(x_train, y_train)\n",
    "model = SelectFromModel(lsvc, prefit=True)\n",
    "a = model.transform(x_train)\n",
    "\n",
    "clf_regression = LogisticRegression(C = 100)\n",
    "clf_regression.fit(a,y_train)"
   ]
  },
  {
   "cell_type": "code",
   "execution_count": 69,
   "metadata": {
    "collapsed": false
   },
   "outputs": [
    {
     "data": {
      "text/plain": [
       "0.76204120616728066"
      ]
     },
     "execution_count": 69,
     "metadata": {},
     "output_type": "execute_result"
    }
   ],
   "source": [
    "clf_regression.score(a,y_train)"
   ]
  },
  {
   "cell_type": "code",
   "execution_count": 71,
   "metadata": {
    "collapsed": false
   },
   "outputs": [
    {
     "name": "stdout",
     "output_type": "stream",
     "text": [
      "准确率: 0.752360234936\n",
      "F1: 0.548253968254\n",
      "命中率： 0.666409415396\n",
      "查全率： 0.465686935419\n",
      "auc: 0.67731289217\n",
      "混淆矩阵：\n",
      "[[13839  1729]\n",
      " [ 3963  3454]]\n"
     ]
    }
   ],
   "source": [
    "paidan = pd.read_csv('paidan_data/paidan_model_test_data_1217.csv',index_col = 1)\n",
    "del paidan['create_dt']\n",
    "paidan = paidan.fillna(value = 0)\n",
    "\n",
    "#异常值处理\n",
    "paidan.loc[paidan.paidan_receiver_distance_jiedan_receiver_max > 10000,\"paidan_receiver_distance_jiedan_receiver_max\"] = paidan[\"paidan_receiver_distance_jiedan_receiver_max\"][paidan.paidan_receiver_distance_jiedan_receiver_max < 10000].mean()\n",
    "paidan.loc[paidan.paidan_receiver_distance_jiedan_receiver_min > 10000,\"paidan_receiver_distance_jiedan_receiver_min\"] = paidan[\"paidan_receiver_distance_jiedan_receiver_min\"][paidan.paidan_receiver_distance_jiedan_receiver_min < 10000].mean()\n",
    "paidan.loc[paidan.paidan_supplier_distance_jiedan_receiver_max > 10000,\"paidan_supplier_distance_jiedan_receiver_max\"] = paidan[\"paidan_supplier_distance_jiedan_receiver_max\"][paidan.paidan_supplier_distance_jiedan_receiver_max < 10000].mean()\n",
    "paidan.loc[paidan.paidan_supplier_distance_jiedan_receiver_min > 10000,\"paidan_supplier_distance_jiedan_receiver_min\"] = paidan[\"paidan_supplier_distance_jiedan_receiver_min\"][paidan.paidan_supplier_distance_jiedan_receiver_min < 10000].mean()\n",
    "paidan.loc[paidan.supplier_receiver_distance > 10000,\"supplier_receiver_distance\"] = paidan[\"supplier_receiver_distance\"][paidan.supplier_receiver_distance < 10000].mean()\n",
    "paidan.loc[paidan.transporter_supplier_distance > 10000,\"transporter_supplier_distance\"] = paidan[\"transporter_supplier_distance\"][paidan.transporter_supplier_distance < 10000].mean()\n",
    "\n",
    "\n",
    "y_paidan = paidan.ix[:,-1]\n",
    "x_paidan = paidan.ix[:,:-1]\n",
    "\n",
    "a_test = model.transform(x_paidan)\n",
    "test_label = clf_regression.predict(a_test)\n",
    "\n",
    "a1 = accuracy_score(y_paidan,test_label)\n",
    "a = f1_score(y_paidan,test_label)\n",
    "b = precision_score(y_paidan,test_label)\n",
    "c = recall_score(y_paidan,test_label)\n",
    "d = roc_auc_score(y_paidan,test_label)\n",
    "e = confusion_matrix(y_paidan,test_label)\n",
    "\n",
    "print '准确率:',a1\n",
    "print 'F1:',a\n",
    "print '命中率：',b\n",
    "print '查全率：',c\n",
    "print 'auc:',d\n",
    "print '混淆矩阵：'\n",
    "print e\n"
   ]
  },
  {
   "cell_type": "code",
   "execution_count": 16,
   "metadata": {
    "collapsed": false
   },
   "outputs": [
    {
     "data": {
      "text/plain": [
       "LogisticRegression(C=100, class_weight=None, dual=False, fit_intercept=True,\n",
       "          intercept_scaling=1, max_iter=100, multi_class='ovr', n_jobs=1,\n",
       "          penalty='l2', random_state=None, solver='liblinear', tol=0.0001,\n",
       "          verbose=0, warm_start=False)"
      ]
     },
     "execution_count": 16,
     "metadata": {},
     "output_type": "execute_result"
    }
   ],
   "source": [
    "#异常值处理\n",
    "paidan_data.loc[paidan_data.paidan_receiver_distance_jiedan_receiver_max > 10000,\"paidan_receiver_distance_jiedan_receiver_max\"] = paidan_data[\"paidan_receiver_distance_jiedan_receiver_max\"][paidan_data.paidan_receiver_distance_jiedan_receiver_max < 10000].mean()\n",
    "paidan_data.loc[paidan_data.paidan_receiver_distance_jiedan_receiver_min > 10000,\"paidan_receiver_distance_jiedan_receiver_min\"] = paidan_data[\"paidan_receiver_distance_jiedan_receiver_min\"][paidan_data.paidan_receiver_distance_jiedan_receiver_min < 10000].mean()\n",
    "paidan_data.loc[paidan_data.paidan_supplier_distance_jiedan_receiver_max > 10000,\"paidan_supplier_distance_jiedan_receiver_max\"] = paidan_data[\"paidan_supplier_distance_jiedan_receiver_max\"][paidan_data.paidan_supplier_distance_jiedan_receiver_max < 10000].mean()\n",
    "paidan_data.loc[paidan_data.paidan_supplier_distance_jiedan_receiver_min > 10000,\"paidan_supplier_distance_jiedan_receiver_min\"] = paidan_data[\"paidan_supplier_distance_jiedan_receiver_min\"][paidan_data.paidan_supplier_distance_jiedan_receiver_min < 10000].mean()\n",
    "paidan_data.loc[paidan_data.supplier_receiver_distance > 10000,\"supplier_receiver_distance\"] = paidan_data[\"supplier_receiver_distance\"][paidan_data.supplier_receiver_distance < 10000].mean()\n",
    "paidan_data.loc[paidan_data.transporter_supplier_distance > 10000,\"transporter_supplier_distance\"] = paidan_data[\"transporter_supplier_distance\"][paidan_data.transporter_supplier_distance < 10000].mean()\n",
    "\n",
    "\n",
    "y_train = paidan_data.iloc[:,-1]\n",
    "x_train = paidan_data.ix[:,:-1]\n",
    "\n",
    "clf_regression = LogisticRegression(C = 100)\n",
    "clf_regression.fit(x_train,y_train)"
   ]
  },
  {
   "cell_type": "code",
   "execution_count": 56,
   "metadata": {
    "collapsed": false
   },
   "outputs": [
    {
     "name": "stdout",
     "output_type": "stream",
     "text": [
      "[[ -6.81996231e-03   1.54192555e-02   4.60933275e-03  -6.41916796e-04\n",
      "    3.42291006e-03  -6.94640530e-04   6.29340635e-04   2.15880195e-05\n",
      "   -1.45707572e-03  -9.94009192e-04   7.08454589e-04   3.14919246e-04\n",
      "   -3.37313959e-04  -1.21319595e-03   6.06857614e-04   3.52798976e-04]] [ -1.09760615e-05]\n"
     ]
    }
   ],
   "source": [
    "w = clf_regression.coef_\n",
    "b = clf_regression.intercept_ \n",
    "\n",
    "\n",
    "varl_ten = ['supplier_receiver_distance',\n",
    "        'transporter_supplier_distance',\n",
    "        'today_finish_order_num',\n",
    "        'transporter_before_fourteen_day_paidan_lv',\n",
    "        'paidan_receiver_distance_jiedan_receiver_min',\n",
    "        'paidan_supplier_distance_jiedan_receiver_min',\n",
    "        'paidan_hour',\n",
    "        'transporter_before_seven_day_paidan_lv',\n",
    "        'paidan_supplier_distance_jiedan_receiver_max',\n",
    "        'paidan_receiver_distance_jiedan_receiver_max',\n",
    "        'allowance_amt']\n",
    "\n",
    "shuju16 = '''\n",
    "[[ -9.75982157e-04  -6.46822061e-04   1.87406349e-02   1.37474320e+00\n",
    "   -3.69740404e-04   9.86904766e-04  -2.98066731e-02   1.48938546e+00\n",
    "    3.41291904e-04  -2.20041053e-04   1.06828485e-02]] [-0.64234326]'''\n",
    "\n",
    "shuju19 = '''\n",
    "[[ -1.00207094e-03  -8.52025318e-04   1.43845435e-02   1.62053049e+00\n",
    "   -6.35165439e-05   1.03641405e-03  -1.61699209e-02   1.62272446e+00\n",
    "    3.45866487e-04  -2.63619517e-04   1.28499257e-02]] [-0.82859557]'''\n",
    "\n",
    "quanbu19 = '''\n",
    "[[ -6.81996231e-03   1.54192555e-02   4.60933275e-03  -6.41916796e-04\n",
    "    3.42291006e-03  -6.94640530e-04   6.29340635e-04   2.15880195e-05\n",
    "   -1.45707572e-03  -9.94009192e-04   7.08454589e-04   3.14919246e-04\n",
    "   -3.37313959e-04  -1.21319595e-03   6.06857614e-04   3.52798976e-04]] [ -1.09760615e-05]'''\n",
    "\n",
    "print w,b"
   ]
  },
  {
   "cell_type": "code",
   "execution_count": 19,
   "metadata": {
    "collapsed": false
   },
   "outputs": [
    {
     "data": {
      "text/plain": [
       "0.751067408461638"
      ]
     },
     "execution_count": 19,
     "metadata": {},
     "output_type": "execute_result"
    }
   ],
   "source": [
    "clf_regression.score(x_train,y_train)"
   ]
  },
  {
   "cell_type": "code",
   "execution_count": 23,
   "metadata": {
    "collapsed": false
   },
   "outputs": [],
   "source": [
    "paidan = pd.read_csv('paidan_data/paidan_model_test_data_1220.csv')\n",
    "paidan = paidan.fillna(value = 0)\n",
    "\n",
    "#异常值处理\n",
    "paidan.loc[paidan.paidan_receiver_distance_jiedan_receiver_max > 10000,\"paidan_receiver_distance_jiedan_receiver_max\"] = paidan[\"paidan_receiver_distance_jiedan_receiver_max\"][paidan.paidan_receiver_distance_jiedan_receiver_max < 10000].mean()\n",
    "paidan.loc[paidan.paidan_receiver_distance_jiedan_receiver_min > 10000,\"paidan_receiver_distance_jiedan_receiver_min\"] = paidan[\"paidan_receiver_distance_jiedan_receiver_min\"][paidan.paidan_receiver_distance_jiedan_receiver_min < 10000].mean()\n",
    "paidan.loc[paidan.paidan_supplier_distance_jiedan_receiver_max > 10000,\"paidan_supplier_distance_jiedan_receiver_max\"] = paidan[\"paidan_supplier_distance_jiedan_receiver_max\"][paidan.paidan_supplier_distance_jiedan_receiver_max < 10000].mean()\n",
    "paidan.loc[paidan.paidan_supplier_distance_jiedan_receiver_min > 10000,\"paidan_supplier_distance_jiedan_receiver_min\"] = paidan[\"paidan_supplier_distance_jiedan_receiver_min\"][paidan.paidan_supplier_distance_jiedan_receiver_min < 10000].mean()\n",
    "paidan.loc[paidan.supplier_receiver_distance > 10000,\"supplier_receiver_distance\"] = paidan[\"supplier_receiver_distance\"][paidan.supplier_receiver_distance < 10000].mean()\n",
    "paidan.loc[paidan.transporter_supplier_distance > 10000,\"transporter_supplier_distance\"] = paidan[\"transporter_supplier_distance\"][paidan.transporter_supplier_distance < 10000].mean()\n",
    "\n",
    "\n",
    "y_paidan = paidan.ix[:,-1]\n",
    "x_paidan = paidan.ix[:,varl_ten]\n",
    "\n",
    "\n",
    "# x_paidan_index = x_paidan.index\n",
    "# x_paidan_columns = x_paidan.columns\n",
    "# x_paidan = min_max_scaler.transform(x_paidan)\n",
    "# x_paidan =pd.DataFrame(x_paidan, columns = x_paidan_columns, index = x_paidan_index)"
   ]
  },
  {
   "cell_type": "code",
   "execution_count": 24,
   "metadata": {
    "collapsed": false
   },
   "outputs": [
    {
     "name": "stdout",
     "output_type": "stream",
     "text": [
      "准确率: 0.766105187707\n",
      "F1: 0.626831534558\n",
      "命中率： 0.662086667673\n",
      "查全率： 0.595141150923\n",
      "auc: 0.722741098398\n",
      "混淆矩阵：\n",
      "[[12716  2238]\n",
      " [ 2983  4385]]\n"
     ]
    }
   ],
   "source": [
    "test_label = clf_regression.predict(x_paidan)\n",
    "\n",
    "a1 = accuracy_score(y_paidan,test_label)\n",
    "a = f1_score(y_paidan,test_label)\n",
    "b = precision_score(y_paidan,test_label)\n",
    "c = recall_score(y_paidan,test_label)\n",
    "d = roc_auc_score(y_paidan,test_label)\n",
    "e = confusion_matrix(y_paidan,test_label)\n",
    "\n",
    "print '准确率:',a1\n",
    "print 'F1:',a\n",
    "print '命中率：',b\n",
    "print '查全率：',c\n",
    "print 'auc:',d\n",
    "print '混淆矩阵：'\n",
    "print e"
   ]
  }
 ],
 "metadata": {
  "kernelspec": {
   "display_name": "Python 2",
   "language": "python",
   "name": "python2"
  },
  "language_info": {
   "codemirror_mode": {
    "name": "ipython",
    "version": 2
   },
   "file_extension": ".py",
   "mimetype": "text/x-python",
   "name": "python",
   "nbconvert_exporter": "python",
   "pygments_lexer": "ipython2",
   "version": "2.7.11"
  }
 },
 "nbformat": 4,
 "nbformat_minor": 0
}
