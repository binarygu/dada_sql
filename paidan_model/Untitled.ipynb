{
 "cells": [
  {
   "cell_type": "code",
   "execution_count": 1,
   "metadata": {
    "collapsed": false
   },
   "outputs": [
    {
     "name": "stderr",
     "output_type": "stream",
     "text": [
      "c:\\python27\\lib\\site-packages\\matplotlib\\__init__.py:872: UserWarning: axes.color_cycle is deprecated and replaced with axes.prop_cycle; please use the latter.\n",
      "  warnings.warn(self.msg_depr % (key, alt_key))\n"
     ]
    }
   ],
   "source": [
    "import pandas as pd\n",
    "import numpy as np\n",
    "import seaborn as sns\n",
    "import matplotlib.pyplot as plt\n",
    "\n",
    "from sklearn.ensemble import RandomForestClassifier\n",
    "from sklearn.ensemble import GradientBoostingClassifier\n",
    "from sklearn.svm import LinearSVC\n",
    "from sklearn.svm import SVC\n",
    "from sklearn.linear_model import LogisticRegression\n",
    "\n",
    "from sklearn.pipeline import Pipeline\n",
    "from sklearn.grid_search import GridSearchCV\n",
    "from sklearn import preprocessing\n",
    "from sklearn.feature_selection import SelectFromModel\n",
    "\n",
    "from sklearn.metrics import f1_score\n",
    "from sklearn.metrics import precision_score\n",
    "from sklearn.metrics import recall_score\n",
    "from sklearn.metrics import roc_auc_score \n",
    "from sklearn.metrics import accuracy_score\n",
    "from sklearn.metrics import confusion_matrix"
   ]
  },
  {
   "cell_type": "code",
   "execution_count": 78,
   "metadata": {
    "collapsed": false,
    "scrolled": true
   },
   "outputs": [
    {
     "name": "stdout",
     "output_type": "stream",
     "text": [
      "0.74916996407 0.634671890304 0.673356128675\n",
      "0.752925821188 0.650972897846 0.688072007676\n",
      "0.751451442646 0.659776347001 0.692268616305\n",
      "0.751067408462 0.671318289786 0.706549443999\n",
      "0.764313233581 0.674276261373 0.710766292054\n",
      "0.753785573989 0.658203137262 0.694202497742\n"
     ]
    }
   ],
   "source": [
    "#读入数据()\n",
    "paidan_data16 = pd.read_csv('paidan_data/paidan_model_test_data_1216.csv',index_col = 1)\n",
    "paidan_data17 = pd.read_csv('paidan_data/paidan_model_test_data_1217.csv',index_col = 1)\n",
    "paidan_data18 = pd.read_csv('paidan_data/paidan_model_test_data_1218.csv',index_col = 1)\n",
    "paidan_data19 = pd.read_csv('paidan_data/paidan_model_test_data_1219.csv',index_col = 1)\n",
    "paidan_data20 = pd.read_csv('paidan_data/paidan_model_test_data_1220.csv',index_col = 1)\n",
    "\n",
    "\n",
    "def data_process(data):\n",
    "    paidan_data = pd.DataFrame(data)\n",
    "    paidan_data = paidan_data.fillna(value = 0)\n",
    "    paidan_data.loc[paidan_data.paidan_receiver_distance_jiedan_receiver_max > 10000,\"paidan_receiver_distance_jiedan_receiver_max\"] = paidan_data[\"paidan_receiver_distance_jiedan_receiver_max\"][paidan_data.paidan_receiver_distance_jiedan_receiver_max < 10000].mean()\n",
    "    paidan_data.loc[paidan_data.paidan_receiver_distance_jiedan_receiver_min > 10000,\"paidan_receiver_distance_jiedan_receiver_min\"] = paidan_data[\"paidan_receiver_distance_jiedan_receiver_min\"][paidan_data.paidan_receiver_distance_jiedan_receiver_min < 10000].mean()\n",
    "    paidan_data.loc[paidan_data.paidan_supplier_distance_jiedan_receiver_max > 10000,\"paidan_supplier_distance_jiedan_receiver_max\"] = paidan_data[\"paidan_supplier_distance_jiedan_receiver_max\"][paidan_data.paidan_supplier_distance_jiedan_receiver_max < 10000].mean()\n",
    "    paidan_data.loc[paidan_data.paidan_supplier_distance_jiedan_receiver_min > 10000,\"paidan_supplier_distance_jiedan_receiver_min\"] = paidan_data[\"paidan_supplier_distance_jiedan_receiver_min\"][paidan_data.paidan_supplier_distance_jiedan_receiver_min < 10000].mean()\n",
    "    paidan_data.loc[paidan_data.supplier_receiver_distance > 10000,\"supplier_receiver_distance\"] = paidan_data[\"supplier_receiver_distance\"][paidan_data.supplier_receiver_distance < 10000].mean()\n",
    "    paidan_data.loc[paidan_data.transporter_supplier_distance > 10000,\"transporter_supplier_distance\"] = paidan_data[\"transporter_supplier_distance\"][paidan_data.transporter_supplier_distance < 10000].mean()\n",
    "    x = paidan_data.ix[:,varl_ten]\n",
    "    y = paidan_data.ix[:,-1]\n",
    "    return x,y\n",
    "\n",
    "def train_model(x_train,y_train):\n",
    "    clf = LogisticRegression(C = 100)\n",
    "    clf.fit(x_train,y_train)\n",
    "    return clf\n",
    "\n",
    "def test_model(clf,x_test,y_test):\n",
    "    label_pre = clf.predict(x_test)\n",
    "    acs = accuracy_score(y_test,label_pre)\n",
    "    prec = precision_score(y_test,label_pre)\n",
    "    auc = roc_auc_score(y_test,label_pre)\n",
    "    return acs,prec,auc\n",
    "\n",
    "x16,y16 = data_process(paidan_data16)\n",
    "x17,y17 = data_process(paidan_data17)\n",
    "x18,y18 = data_process(paidan_data18)\n",
    "x19,y19 = data_process(paidan_data19)\n",
    "x20,y20 = data_process(paidan_data20)\n",
    "\n",
    "clf16 = train_model(x16,y16)\n",
    "clf17 = train_model(x17,y17)\n",
    "clf18 = train_model(x18,y18)\n",
    "clf19 = train_model(x19,y19)\n",
    "clf20 = train_model(x20,y20)\n",
    "\n",
    "acs16,prec16,auc16 = test_model(clf16,x16,y16)\n",
    "acs17,prec17,auc17 = test_model(clf17,x17,y17)\n",
    "acs18,prec18,auc18 = test_model(clf18,x18,y18)\n",
    "acs19,prec19,auc19 = test_model(clf19,x19,y19)\n",
    "acs20,prec20,auc20 = test_model(clf20,x20,y20)\n",
    "\n",
    "\n",
    "\n",
    "\n",
    "print acs16,prec16,auc16 \n",
    "print acs17,prec17,auc17\n",
    "print acs18,prec18,auc18\n",
    "print acs19,prec19,auc19\n",
    "print acs20,prec20,auc20\n",
    "\n",
    "print (acs16+acs17+acs18+acs19+acs20)/5,(prec16+prec17+prec18+prec19+prec20)/5,(auc16+auc17+auc18+auc19+auc20)/5"
   ]
  },
  {
   "cell_type": "code",
   "execution_count": 79,
   "metadata": {
    "collapsed": false
   },
   "outputs": [
    {
     "name": "stdout",
     "output_type": "stream",
     "text": [
      "0.752142701762 0.652374202693 0.685199688821\n",
      "0.749692118227 0.654865771812 0.691253722681\n",
      "0.751498684608 0.690813302601 0.697496849208\n",
      "0.766105187707 0.662086667673 0.722741098398\n",
      "0.754859673076 0.665034986195 0.699172839777\n"
     ]
    }
   ],
   "source": [
    "acs16,prec16,auc16 = test_model(clf16,x17,y17)\n",
    "acs17,prec17,auc17 = test_model(clf17,x18,y18)\n",
    "acs18,prec18,auc18 = test_model(clf18,x19,y19)\n",
    "acs19,prec19,auc19 = test_model(clf19,x20,y20)\n",
    "print acs16,prec16,auc16 \n",
    "print acs17,prec17,auc17\n",
    "print acs18,prec18,auc18\n",
    "print acs19,prec19,auc19\n",
    "\n",
    "print (acs16+acs17+acs18+acs19)/4,(prec16+prec17+prec18+prec19)/4,(auc16+auc17+auc18+auc19)/4 "
   ]
  },
  {
   "cell_type": "code",
   "execution_count": 80,
   "metadata": {
    "collapsed": false
   },
   "outputs": [
    {
     "name": "stdout",
     "output_type": "stream",
     "text": [
      "0.749912033779 0.659266907589 0.689010347819\n",
      "0.749687324794 0.685161080377 0.696538524368\n",
      "0.765074814085 0.677710843373 0.710439647928\n",
      "0.754891390886 0.674046277113 0.698662840038\n"
     ]
    }
   ],
   "source": [
    "acs16,prec16,auc16 = test_model(clf16,x18,y18)\n",
    "acs17,prec17,auc17 = test_model(clf17,x19,y19)\n",
    "acs18,prec18,auc18 = test_model(clf18,x20,y20)\n",
    "\n",
    "print acs16,prec16,auc16 \n",
    "print acs17,prec17,auc17\n",
    "print acs18,prec18,auc18\n",
    "\n",
    "print (acs16+acs17+acs18)/3,(prec16+prec17+prec18)/3,(auc16+auc17+auc18)/3 "
   ]
  },
  {
   "cell_type": "code",
   "execution_count": 81,
   "metadata": {
    "collapsed": false
   },
   "outputs": [
    {
     "name": "stdout",
     "output_type": "stream",
     "text": [
      "0.749902962867 0.689609310058 0.694890621815\n",
      "0.763954842756 0.672927994727 0.710774206299\n",
      "0.756928902812 0.681268652393 0.702832414057\n"
     ]
    }
   ],
   "source": [
    "acs16,prec16,auc16 = test_model(clf16,x19,y19)\n",
    "acs17,prec17,auc17 = test_model(clf17,x20,y20)\n",
    "\n",
    "\n",
    "print acs16,prec16,auc16 \n",
    "print acs17,prec17,auc17\n",
    "\n",
    "print (acs16+acs17)/2,(prec16+prec17)/2,(auc16+auc17)/2 "
   ]
  },
  {
   "cell_type": "code",
   "execution_count": 68,
   "metadata": {
    "collapsed": false
   },
   "outputs": [
    {
     "data": {
      "text/plain": [
       "LogisticRegression(C=100, class_weight=None, dual=False, fit_intercept=True,\n",
       "          intercept_scaling=1, max_iter=100, multi_class='ovr', n_jobs=1,\n",
       "          penalty='l2', random_state=None, solver='liblinear', tol=0.0001,\n",
       "          verbose=0, warm_start=False)"
      ]
     },
     "execution_count": 68,
     "metadata": {},
     "output_type": "execute_result"
    }
   ],
   "source": [
    "\n",
    "y_train = paidan_data.iloc[:,-1]\n",
    "x_train = paidan_data.ix[:,:-1]\n",
    "lsvc = LinearSVC(C=0.00001, penalty=\"l1\", dual=False).fit(x_train, y_train)\n",
    "model = SelectFromModel(lsvc, prefit=True)\n",
    "a = model.transform(x_train)\n",
    "\n",
    "clf_regression = LogisticRegression(C = 100)\n",
    "clf_regression.fit(a,y_train)"
   ]
  },
  {
   "cell_type": "code",
   "execution_count": 69,
   "metadata": {
    "collapsed": false
   },
   "outputs": [
    {
     "data": {
      "text/plain": [
       "0.76204120616728066"
      ]
     },
     "execution_count": 69,
     "metadata": {},
     "output_type": "execute_result"
    }
   ],
   "source": [
    "clf_regression.score(a,y_train)"
   ]
  },
  {
   "cell_type": "code",
   "execution_count": 71,
   "metadata": {
    "collapsed": false
   },
   "outputs": [
    {
     "name": "stdout",
     "output_type": "stream",
     "text": [
      "准确率: 0.752360234936\n",
      "F1: 0.548253968254\n",
      "命中率： 0.666409415396\n",
      "查全率： 0.465686935419\n",
      "auc: 0.67731289217\n",
      "混淆矩阵：\n",
      "[[13839  1729]\n",
      " [ 3963  3454]]\n"
     ]
    }
   ],
   "source": [
    "paidan = pd.read_csv('paidan_data/paidan_model_test_data_1217.csv',index_col = 1)\n",
    "del paidan['create_dt']\n",
    "paidan = paidan.fillna(value = 0)\n",
    "\n",
    "#异常值处理\n",
    "paidan.loc[paidan.paidan_receiver_distance_jiedan_receiver_max > 10000,\"paidan_receiver_distance_jiedan_receiver_max\"] = paidan[\"paidan_receiver_distance_jiedan_receiver_max\"][paidan.paidan_receiver_distance_jiedan_receiver_max < 10000].mean()\n",
    "paidan.loc[paidan.paidan_receiver_distance_jiedan_receiver_min > 10000,\"paidan_receiver_distance_jiedan_receiver_min\"] = paidan[\"paidan_receiver_distance_jiedan_receiver_min\"][paidan.paidan_receiver_distance_jiedan_receiver_min < 10000].mean()\n",
    "paidan.loc[paidan.paidan_supplier_distance_jiedan_receiver_max > 10000,\"paidan_supplier_distance_jiedan_receiver_max\"] = paidan[\"paidan_supplier_distance_jiedan_receiver_max\"][paidan.paidan_supplier_distance_jiedan_receiver_max < 10000].mean()\n",
    "paidan.loc[paidan.paidan_supplier_distance_jiedan_receiver_min > 10000,\"paidan_supplier_distance_jiedan_receiver_min\"] = paidan[\"paidan_supplier_distance_jiedan_receiver_min\"][paidan.paidan_supplier_distance_jiedan_receiver_min < 10000].mean()\n",
    "paidan.loc[paidan.supplier_receiver_distance > 10000,\"supplier_receiver_distance\"] = paidan[\"supplier_receiver_distance\"][paidan.supplier_receiver_distance < 10000].mean()\n",
    "paidan.loc[paidan.transporter_supplier_distance > 10000,\"transporter_supplier_distance\"] = paidan[\"transporter_supplier_distance\"][paidan.transporter_supplier_distance < 10000].mean()\n",
    "\n",
    "\n",
    "y_paidan = paidan.ix[:,-1]\n",
    "x_paidan = paidan.ix[:,:-1]\n",
    "\n",
    "a_test = model.transform(x_paidan)\n",
    "test_label = clf_regression.predict(a_test)\n",
    "\n",
    "a1 = accuracy_score(y_paidan,test_label)\n",
    "a = f1_score(y_paidan,test_label)\n",
    "b = precision_score(y_paidan,test_label)\n",
    "c = recall_score(y_paidan,test_label)\n",
    "d = roc_auc_score(y_paidan,test_label)\n",
    "e = confusion_matrix(y_paidan,test_label)\n",
    "\n",
    "print '准确率:',a1\n",
    "print 'F1:',a\n",
    "print '命中率：',b\n",
    "print '查全率：',c\n",
    "print 'auc:',d\n",
    "print '混淆矩阵：'\n",
    "print e\n"
   ]
  },
  {
   "cell_type": "code",
   "execution_count": 16,
   "metadata": {
    "collapsed": false
   },
   "outputs": [
    {
     "data": {
      "text/plain": [
       "LogisticRegression(C=100, class_weight=None, dual=False, fit_intercept=True,\n",
       "          intercept_scaling=1, max_iter=100, multi_class='ovr', n_jobs=1,\n",
       "          penalty='l2', random_state=None, solver='liblinear', tol=0.0001,\n",
       "          verbose=0, warm_start=False)"
      ]
     },
     "execution_count": 16,
     "metadata": {},
     "output_type": "execute_result"
    }
   ],
   "source": [
    "#异常值处理\n",
    "paidan_data.loc[paidan_data.paidan_receiver_distance_jiedan_receiver_max > 10000,\"paidan_receiver_distance_jiedan_receiver_max\"] = paidan_data[\"paidan_receiver_distance_jiedan_receiver_max\"][paidan_data.paidan_receiver_distance_jiedan_receiver_max < 10000].mean()\n",
    "paidan_data.loc[paidan_data.paidan_receiver_distance_jiedan_receiver_min > 10000,\"paidan_receiver_distance_jiedan_receiver_min\"] = paidan_data[\"paidan_receiver_distance_jiedan_receiver_min\"][paidan_data.paidan_receiver_distance_jiedan_receiver_min < 10000].mean()\n",
    "paidan_data.loc[paidan_data.paidan_supplier_distance_jiedan_receiver_max > 10000,\"paidan_supplier_distance_jiedan_receiver_max\"] = paidan_data[\"paidan_supplier_distance_jiedan_receiver_max\"][paidan_data.paidan_supplier_distance_jiedan_receiver_max < 10000].mean()\n",
    "paidan_data.loc[paidan_data.paidan_supplier_distance_jiedan_receiver_min > 10000,\"paidan_supplier_distance_jiedan_receiver_min\"] = paidan_data[\"paidan_supplier_distance_jiedan_receiver_min\"][paidan_data.paidan_supplier_distance_jiedan_receiver_min < 10000].mean()\n",
    "paidan_data.loc[paidan_data.supplier_receiver_distance > 10000,\"supplier_receiver_distance\"] = paidan_data[\"supplier_receiver_distance\"][paidan_data.supplier_receiver_distance < 10000].mean()\n",
    "paidan_data.loc[paidan_data.transporter_supplier_distance > 10000,\"transporter_supplier_distance\"] = paidan_data[\"transporter_supplier_distance\"][paidan_data.transporter_supplier_distance < 10000].mean()\n",
    "\n",
    "\n",
    "y_train = paidan_data.iloc[:,-1]\n",
    "x_train = paidan_data.ix[:,:-1]\n",
    "\n",
    "clf_regression = LogisticRegression(C = 100)\n",
    "clf_regression.fit(x_train,y_train)"
   ]
  },
  {
   "cell_type": "code",
   "execution_count": 56,
   "metadata": {
    "collapsed": false
   },
   "outputs": [
    {
     "name": "stdout",
     "output_type": "stream",
     "text": [
      "[[ -6.81996231e-03   1.54192555e-02   4.60933275e-03  -6.41916796e-04\n",
      "    3.42291006e-03  -6.94640530e-04   6.29340635e-04   2.15880195e-05\n",
      "   -1.45707572e-03  -9.94009192e-04   7.08454589e-04   3.14919246e-04\n",
      "   -3.37313959e-04  -1.21319595e-03   6.06857614e-04   3.52798976e-04]] [ -1.09760615e-05]\n"
     ]
    }
   ],
   "source": [
    "w = clf_regression.coef_\n",
    "b = clf_regression.intercept_ \n",
    "\n",
    "\n",
    "varl_ten = ['supplier_receiver_distance',\n",
    "        'transporter_supplier_distance',\n",
    "        'today_finish_order_num',\n",
    "        'transporter_before_fourteen_day_paidan_lv',\n",
    "        'paidan_receiver_distance_jiedan_receiver_min',\n",
    "        'paidan_supplier_distance_jiedan_receiver_min',\n",
    "        'paidan_hour',\n",
    "        'transporter_before_seven_day_paidan_lv',\n",
    "        'paidan_supplier_distance_jiedan_receiver_max',\n",
    "        'paidan_receiver_distance_jiedan_receiver_max',\n",
    "        'allowance_amt']\n",
    "\n",
    "shuju16 = '''\n",
    "[[ -9.75982157e-04  -6.46822061e-04   1.87406349e-02   1.37474320e+00\n",
    "   -3.69740404e-04   9.86904766e-04  -2.98066731e-02   1.48938546e+00\n",
    "    3.41291904e-04  -2.20041053e-04   1.06828485e-02]] [-0.64234326]'''\n",
    "\n",
    "shuju19 = '''\n",
    "[[ -1.00207094e-03  -8.52025318e-04   1.43845435e-02   1.62053049e+00\n",
    "   -6.35165439e-05   1.03641405e-03  -1.61699209e-02   1.62272446e+00\n",
    "    3.45866487e-04  -2.63619517e-04   1.28499257e-02]] [-0.82859557]'''\n",
    "\n",
    "quanbu19 = '''\n",
    "[[ -6.81996231e-03   1.54192555e-02   4.60933275e-03  -6.41916796e-04\n",
    "    3.42291006e-03  -6.94640530e-04   6.29340635e-04   2.15880195e-05\n",
    "   -1.45707572e-03  -9.94009192e-04   7.08454589e-04   3.14919246e-04\n",
    "   -3.37313959e-04  -1.21319595e-03   6.06857614e-04   3.52798976e-04]] [ -1.09760615e-05]'''\n",
    "\n",
    "print w,b"
   ]
  },
  {
   "cell_type": "code",
   "execution_count": 19,
   "metadata": {
    "collapsed": false
   },
   "outputs": [
    {
     "data": {
      "text/plain": [
       "0.751067408461638"
      ]
     },
     "execution_count": 19,
     "metadata": {},
     "output_type": "execute_result"
    }
   ],
   "source": [
    "clf_regression.score(x_train,y_train)"
   ]
  },
  {
   "cell_type": "code",
   "execution_count": 23,
   "metadata": {
    "collapsed": false
   },
   "outputs": [],
   "source": [
    "paidan = pd.read_csv('paidan_data/paidan_model_test_data_1220.csv')\n",
    "paidan = paidan.fillna(value = 0)\n",
    "\n",
    "#异常值处理\n",
    "paidan.loc[paidan.paidan_receiver_distance_jiedan_receiver_max > 10000,\"paidan_receiver_distance_jiedan_receiver_max\"] = paidan[\"paidan_receiver_distance_jiedan_receiver_max\"][paidan.paidan_receiver_distance_jiedan_receiver_max < 10000].mean()\n",
    "paidan.loc[paidan.paidan_receiver_distance_jiedan_receiver_min > 10000,\"paidan_receiver_distance_jiedan_receiver_min\"] = paidan[\"paidan_receiver_distance_jiedan_receiver_min\"][paidan.paidan_receiver_distance_jiedan_receiver_min < 10000].mean()\n",
    "paidan.loc[paidan.paidan_supplier_distance_jiedan_receiver_max > 10000,\"paidan_supplier_distance_jiedan_receiver_max\"] = paidan[\"paidan_supplier_distance_jiedan_receiver_max\"][paidan.paidan_supplier_distance_jiedan_receiver_max < 10000].mean()\n",
    "paidan.loc[paidan.paidan_supplier_distance_jiedan_receiver_min > 10000,\"paidan_supplier_distance_jiedan_receiver_min\"] = paidan[\"paidan_supplier_distance_jiedan_receiver_min\"][paidan.paidan_supplier_distance_jiedan_receiver_min < 10000].mean()\n",
    "paidan.loc[paidan.supplier_receiver_distance > 10000,\"supplier_receiver_distance\"] = paidan[\"supplier_receiver_distance\"][paidan.supplier_receiver_distance < 10000].mean()\n",
    "paidan.loc[paidan.transporter_supplier_distance > 10000,\"transporter_supplier_distance\"] = paidan[\"transporter_supplier_distance\"][paidan.transporter_supplier_distance < 10000].mean()\n",
    "\n",
    "\n",
    "y_paidan = paidan.ix[:,-1]\n",
    "x_paidan = paidan.ix[:,varl_ten]\n",
    "\n",
    "\n",
    "# x_paidan_index = x_paidan.index\n",
    "# x_paidan_columns = x_paidan.columns\n",
    "# x_paidan = min_max_scaler.transform(x_paidan)\n",
    "# x_paidan =pd.DataFrame(x_paidan, columns = x_paidan_columns, index = x_paidan_index)"
   ]
  },
  {
   "cell_type": "code",
   "execution_count": 24,
   "metadata": {
    "collapsed": false
   },
   "outputs": [
    {
     "name": "stdout",
     "output_type": "stream",
     "text": [
      "准确率: 0.766105187707\n",
      "F1: 0.626831534558\n",
      "命中率： 0.662086667673\n",
      "查全率： 0.595141150923\n",
      "auc: 0.722741098398\n",
      "混淆矩阵：\n",
      "[[12716  2238]\n",
      " [ 2983  4385]]\n"
     ]
    }
   ],
   "source": [
    "test_label = clf_regression.predict(x_paidan)\n",
    "\n",
    "a1 = accuracy_score(y_paidan,test_label)\n",
    "a = f1_score(y_paidan,test_label)\n",
    "b = precision_score(y_paidan,test_label)\n",
    "c = recall_score(y_paidan,test_label)\n",
    "d = roc_auc_score(y_paidan,test_label)\n",
    "e = confusion_matrix(y_paidan,test_label)\n",
    "\n",
    "print '准确率:',a1\n",
    "print 'F1:',a\n",
    "print '命中率：',b\n",
    "print '查全率：',c\n",
    "print 'auc:',d\n",
    "print '混淆矩阵：'\n",
    "print e"
   ]
  }
 ],
 "metadata": {
  "kernelspec": {
   "display_name": "Python 2",
   "language": "python",
   "name": "python2"
  },
  "language_info": {
   "codemirror_mode": {
    "name": "ipython",
    "version": 2
   },
   "file_extension": ".py",
   "mimetype": "text/x-python",
   "name": "python",
   "nbconvert_exporter": "python",
   "pygments_lexer": "ipython2",
   "version": "2.7.11"
  }
 },
 "nbformat": 4,
 "nbformat_minor": 0
}
