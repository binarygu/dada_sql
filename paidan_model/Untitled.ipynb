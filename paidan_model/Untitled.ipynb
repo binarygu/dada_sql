{
 "cells": [
  {
   "cell_type": "code",
   "execution_count": 30,
   "metadata": {
    "collapsed": false
   },
   "outputs": [],
   "source": [
    "import pandas as pd\n",
    "import numpy as np\n",
    "import seaborn as sns\n",
    "import matplotlib.pyplot as plt\n",
    "\n",
    "from sklearn.ensemble import RandomForestClassifier\n",
    "from sklearn.ensemble import GradientBoostingClassifier\n",
    "from sklearn.svm import LinearSVC\n",
    "from sklearn.svm import SVC\n",
    "from sklearn.linear_model import LogisticRegression\n",
    "\n",
    "from sklearn.pipeline import Pipeline\n",
    "from sklearn.grid_search import GridSearchCV\n",
    "from sklearn import preprocessing\n",
    "from sklearn.feature_selection import SelectFromModel\n",
    "\n",
    "from sklearn.metrics import f1_score\n",
    "from sklearn.metrics import precision_score\n",
    "from sklearn.metrics import recall_score\n",
    "from sklearn.metrics import roc_auc_score \n",
    "from sklearn.metrics import accuracy_score\n",
    "from sklearn.metrics import confusion_matrix"
   ]
  },
  {
   "cell_type": "code",
   "execution_count": 31,
   "metadata": {
    "collapsed": false
   },
   "outputs": [],
   "source": [
    "#读入数据()\n",
    "paidan_data = pd.read_csv('paidan_data/paidan_model_test_data_1216.csv')\n",
    "paidan_data = paidan_data.fillna(value = 0)\n",
    "\n"
   ]
  },
  {
   "cell_type": "code",
   "execution_count": 32,
   "metadata": {
    "collapsed": false
   },
   "outputs": [
    {
     "data": {
      "text/html": [
       "<div>\n",
       "<table border=\"1\" class=\"dataframe\">\n",
       "  <thead>\n",
       "    <tr style=\"text-align: right;\">\n",
       "      <th></th>\n",
       "      <th>supplier_receiver_distance</th>\n",
       "      <th>transporter_supplier_distance</th>\n",
       "      <th>today_finish_order_num</th>\n",
       "      <th>transporter_before_fourteen_day_paidan_lv</th>\n",
       "      <th>paidan_receiver_distance_jiedan_receiver_min</th>\n",
       "      <th>paidan_supplier_distance_jiedan_receiver_min</th>\n",
       "      <th>paidan_hour</th>\n",
       "      <th>transporter_before_seven_day_paidan_lv</th>\n",
       "      <th>paidan_supplier_distance_jiedan_receiver_max</th>\n",
       "      <th>paidan_receiver_distance_jiedan_receiver_max</th>\n",
       "      <th>allowance_amt</th>\n",
       "      <th>label</th>\n",
       "    </tr>\n",
       "  </thead>\n",
       "  <tbody>\n",
       "    <tr>\n",
       "      <th>0</th>\n",
       "      <td>1276.800695</td>\n",
       "      <td>11.645460</td>\n",
       "      <td>0</td>\n",
       "      <td>0.78814</td>\n",
       "      <td>0</td>\n",
       "      <td>0</td>\n",
       "      <td>0</td>\n",
       "      <td>0.78182</td>\n",
       "      <td>0</td>\n",
       "      <td>0</td>\n",
       "      <td>3</td>\n",
       "      <td>1</td>\n",
       "    </tr>\n",
       "    <tr>\n",
       "      <th>1</th>\n",
       "      <td>3433.761589</td>\n",
       "      <td>20.294573</td>\n",
       "      <td>0</td>\n",
       "      <td>0.00000</td>\n",
       "      <td>0</td>\n",
       "      <td>0</td>\n",
       "      <td>0</td>\n",
       "      <td>0.00000</td>\n",
       "      <td>0</td>\n",
       "      <td>0</td>\n",
       "      <td>0</td>\n",
       "      <td>-1</td>\n",
       "    </tr>\n",
       "    <tr>\n",
       "      <th>2</th>\n",
       "      <td>3433.761589</td>\n",
       "      <td>22.264819</td>\n",
       "      <td>0</td>\n",
       "      <td>0.37019</td>\n",
       "      <td>0</td>\n",
       "      <td>0</td>\n",
       "      <td>0</td>\n",
       "      <td>0.34694</td>\n",
       "      <td>0</td>\n",
       "      <td>0</td>\n",
       "      <td>0</td>\n",
       "      <td>-1</td>\n",
       "    </tr>\n",
       "    <tr>\n",
       "      <th>3</th>\n",
       "      <td>605.812899</td>\n",
       "      <td>77.999123</td>\n",
       "      <td>0</td>\n",
       "      <td>0.60870</td>\n",
       "      <td>0</td>\n",
       "      <td>0</td>\n",
       "      <td>0</td>\n",
       "      <td>0.56250</td>\n",
       "      <td>0</td>\n",
       "      <td>0</td>\n",
       "      <td>3</td>\n",
       "      <td>1</td>\n",
       "    </tr>\n",
       "    <tr>\n",
       "      <th>4</th>\n",
       "      <td>3433.761589</td>\n",
       "      <td>39.025583</td>\n",
       "      <td>0</td>\n",
       "      <td>0.10120</td>\n",
       "      <td>0</td>\n",
       "      <td>0</td>\n",
       "      <td>0</td>\n",
       "      <td>0.04918</td>\n",
       "      <td>0</td>\n",
       "      <td>0</td>\n",
       "      <td>0</td>\n",
       "      <td>-1</td>\n",
       "    </tr>\n",
       "  </tbody>\n",
       "</table>\n",
       "</div>"
      ],
      "text/plain": [
       "   supplier_receiver_distance  transporter_supplier_distance  \\\n",
       "0                 1276.800695                      11.645460   \n",
       "1                 3433.761589                      20.294573   \n",
       "2                 3433.761589                      22.264819   \n",
       "3                  605.812899                      77.999123   \n",
       "4                 3433.761589                      39.025583   \n",
       "\n",
       "   today_finish_order_num  transporter_before_fourteen_day_paidan_lv  \\\n",
       "0                       0                                    0.78814   \n",
       "1                       0                                    0.00000   \n",
       "2                       0                                    0.37019   \n",
       "3                       0                                    0.60870   \n",
       "4                       0                                    0.10120   \n",
       "\n",
       "   paidan_receiver_distance_jiedan_receiver_min  \\\n",
       "0                                             0   \n",
       "1                                             0   \n",
       "2                                             0   \n",
       "3                                             0   \n",
       "4                                             0   \n",
       "\n",
       "   paidan_supplier_distance_jiedan_receiver_min  paidan_hour  \\\n",
       "0                                             0            0   \n",
       "1                                             0            0   \n",
       "2                                             0            0   \n",
       "3                                             0            0   \n",
       "4                                             0            0   \n",
       "\n",
       "   transporter_before_seven_day_paidan_lv  \\\n",
       "0                                 0.78182   \n",
       "1                                 0.00000   \n",
       "2                                 0.34694   \n",
       "3                                 0.56250   \n",
       "4                                 0.04918   \n",
       "\n",
       "   paidan_supplier_distance_jiedan_receiver_max  \\\n",
       "0                                             0   \n",
       "1                                             0   \n",
       "2                                             0   \n",
       "3                                             0   \n",
       "4                                             0   \n",
       "\n",
       "   paidan_receiver_distance_jiedan_receiver_max  allowance_amt  label  \n",
       "0                                             0              3      1  \n",
       "1                                             0              0     -1  \n",
       "2                                             0              0     -1  \n",
       "3                                             0              3      1  \n",
       "4                                             0              0     -1  "
      ]
     },
     "execution_count": 32,
     "metadata": {},
     "output_type": "execute_result"
    }
   ],
   "source": [
    "paidan_data.head()"
   ]
  },
  {
   "cell_type": "code",
   "execution_count": 33,
   "metadata": {
    "collapsed": false
   },
   "outputs": [
    {
     "data": {
      "text/plain": [
       "LogisticRegression(C=100, class_weight=None, dual=False, fit_intercept=True,\n",
       "          intercept_scaling=1, max_iter=100, multi_class='ovr', n_jobs=1,\n",
       "          penalty='l2', random_state=None, solver='liblinear', tol=0.0001,\n",
       "          verbose=0, warm_start=False)"
      ]
     },
     "execution_count": 33,
     "metadata": {},
     "output_type": "execute_result"
    }
   ],
   "source": [
    "#异常值处理\n",
    "paidan_data.loc[paidan_data.paidan_receiver_distance_jiedan_receiver_max > 10000,\"paidan_receiver_distance_jiedan_receiver_max\"] = paidan_data[\"paidan_receiver_distance_jiedan_receiver_max\"][paidan_data.paidan_receiver_distance_jiedan_receiver_max < 10000].mean()\n",
    "paidan_data.loc[paidan_data.paidan_receiver_distance_jiedan_receiver_min > 10000,\"paidan_receiver_distance_jiedan_receiver_min\"] = paidan_data[\"paidan_receiver_distance_jiedan_receiver_min\"][paidan_data.paidan_receiver_distance_jiedan_receiver_min < 10000].mean()\n",
    "paidan_data.loc[paidan_data.paidan_supplier_distance_jiedan_receiver_max > 10000,\"paidan_supplier_distance_jiedan_receiver_max\"] = paidan_data[\"paidan_supplier_distance_jiedan_receiver_max\"][paidan_data.paidan_supplier_distance_jiedan_receiver_max < 10000].mean()\n",
    "paidan_data.loc[paidan_data.paidan_supplier_distance_jiedan_receiver_min > 10000,\"paidan_supplier_distance_jiedan_receiver_min\"] = paidan_data[\"paidan_supplier_distance_jiedan_receiver_min\"][paidan_data.paidan_supplier_distance_jiedan_receiver_min < 10000].mean()\n",
    "paidan_data.loc[paidan_data.supplier_receiver_distance > 10000,\"supplier_receiver_distance\"] = paidan_data[\"supplier_receiver_distance\"][paidan_data.supplier_receiver_distance < 10000].mean()\n",
    "paidan_data.loc[paidan_data.transporter_supplier_distance > 10000,\"transporter_supplier_distance\"] = paidan_data[\"transporter_supplier_distance\"][paidan_data.transporter_supplier_distance < 10000].mean()\n",
    "\n",
    "\n",
    "y_train = paidan_data.iloc[:,-1]\n",
    "x_train = paidan_data.ix[:,:-1]\n",
    "\n",
    "clf_regression = LogisticRegression(C = 100)\n",
    "clf_regression.fit(x_train,y_train)"
   ]
  },
  {
   "cell_type": "code",
   "execution_count": 44,
   "metadata": {
    "collapsed": false
   },
   "outputs": [],
   "source": [
    "w = clf_regression.coef_\n",
    "b = clf_regression.intercept_ \n",
    "\n",
    "\n",
    "varl_ten = ['supplier_receiver_distance',\n",
    "        'transporter_supplier_distance',\n",
    "        'today_finish_order_num',\n",
    "        'transporter_before_fourteen_day_paidan_lv',\n",
    "        'paidan_receiver_distance_jiedan_receiver_min',\n",
    "        'paidan_supplier_distance_jiedan_receiver_min',\n",
    "        'paidan_hour',\n",
    "        'transporter_before_seven_day_paidan_lv',\n",
    "        'paidan_supplier_distance_jiedan_receiver_max',\n",
    "        'paidan_receiver_distance_jiedan_receiver_max',\n",
    "        'allowance_amt']\n",
    "\n",
    "\n",
    "w = pd.DataFrame(w)\n",
    "b = pd.DataFrame(b)\n",
    "w.to_csv('c:/w.csv')\n",
    "b.to_csv('c:/b.csv')"
   ]
  },
  {
   "cell_type": "code",
   "execution_count": 35,
   "metadata": {
    "collapsed": false
   },
   "outputs": [
    {
     "data": {
      "text/plain": [
       "0.74916996406967751"
      ]
     },
     "execution_count": 35,
     "metadata": {},
     "output_type": "execute_result"
    }
   ],
   "source": [
    "clf_regression.score(x_train,y_train)"
   ]
  },
  {
   "cell_type": "code",
   "execution_count": 41,
   "metadata": {
    "collapsed": false
   },
   "outputs": [],
   "source": [
    "paidan = pd.read_csv('paidan_data/paidan_model_test_data_1215.csv')\n",
    "paidan = paidan.fillna(value = 0)\n",
    "\n",
    "#异常值处理\n",
    "paidan.loc[paidan.paidan_receiver_distance_jiedan_receiver_max > 10000,\"paidan_receiver_distance_jiedan_receiver_max\"] = paidan[\"paidan_receiver_distance_jiedan_receiver_max\"][paidan.paidan_receiver_distance_jiedan_receiver_max < 10000].mean()\n",
    "paidan.loc[paidan.paidan_receiver_distance_jiedan_receiver_min > 10000,\"paidan_receiver_distance_jiedan_receiver_min\"] = paidan[\"paidan_receiver_distance_jiedan_receiver_min\"][paidan.paidan_receiver_distance_jiedan_receiver_min < 10000].mean()\n",
    "paidan.loc[paidan.paidan_supplier_distance_jiedan_receiver_max > 10000,\"paidan_supplier_distance_jiedan_receiver_max\"] = paidan[\"paidan_supplier_distance_jiedan_receiver_max\"][paidan.paidan_supplier_distance_jiedan_receiver_max < 10000].mean()\n",
    "paidan.loc[paidan.paidan_supplier_distance_jiedan_receiver_min > 10000,\"paidan_supplier_distance_jiedan_receiver_min\"] = paidan[\"paidan_supplier_distance_jiedan_receiver_min\"][paidan.paidan_supplier_distance_jiedan_receiver_min < 10000].mean()\n",
    "paidan.loc[paidan.supplier_receiver_distance > 10000,\"supplier_receiver_distance\"] = paidan[\"supplier_receiver_distance\"][paidan.supplier_receiver_distance < 10000].mean()\n",
    "paidan.loc[paidan.transporter_supplier_distance > 10000,\"transporter_supplier_distance\"] = paidan[\"transporter_supplier_distance\"][paidan.transporter_supplier_distance < 10000].mean()\n",
    "\n",
    "varl_ten = ['supplier_receiver_distance',\n",
    "        'transporter_supplier_distance',\n",
    "        'today_finish_order_num',\n",
    "        'transporter_before_fourteen_day_paidan_lv',\n",
    "        'paidan_receiver_distance_jiedan_receiver_min',\n",
    "        'paidan_supplier_distance_jiedan_receiver_min',\n",
    "        'paidan_hour',\n",
    "        'transporter_before_seven_day_paidan_lv',\n",
    "        'paidan_supplier_distance_jiedan_receiver_max',\n",
    "        'paidan_receiver_distance_jiedan_receiver_max',\n",
    "        'allowance_amt']\n",
    "\n",
    "y_paidan = paidan.ix[:,-1]\n",
    "x_paidan = paidan.ix[:,varl_ten]\n",
    "\n",
    "\n",
    "# x_paidan_index = x_paidan.index\n",
    "# x_paidan_columns = x_paidan.columns\n",
    "# x_paidan = min_max_scaler.transform(x_paidan)\n",
    "# x_paidan =pd.DataFrame(x_paidan, columns = x_paidan_columns, index = x_paidan_index)"
   ]
  },
  {
   "cell_type": "code",
   "execution_count": 42,
   "metadata": {
    "collapsed": false
   },
   "outputs": [
    {
     "name": "stdout",
     "output_type": "stream",
     "text": [
      "准确率: 0.742383025027\n",
      "F1: 0.53991902834\n",
      "命中率： 0.66480558325\n",
      "查全率： 0.454533060668\n",
      "auc: 0.670171224309\n",
      "混淆矩阵：\n",
      "[[13040  1681]\n",
      " [ 4001  3334]]\n"
     ]
    }
   ],
   "source": [
    "test_label = clf_regression.predict(x_paidan)\n",
    "\n",
    "a1 = accuracy_score(y_paidan,test_label)\n",
    "a = f1_score(y_paidan,test_label)\n",
    "b = precision_score(y_paidan,test_label)\n",
    "c = recall_score(y_paidan,test_label)\n",
    "d = roc_auc_score(y_paidan,test_label)\n",
    "e = confusion_matrix(y_paidan,test_label)\n",
    "\n",
    "print '准确率:',a1\n",
    "print 'F1:',a\n",
    "print '命中率：',b\n",
    "print '查全率：',c\n",
    "print 'auc:',d\n",
    "print '混淆矩阵：'\n",
    "print e"
   ]
  },
  {
   "cell_type": "code",
   "execution_count": 25,
   "metadata": {
    "collapsed": false
   },
   "outputs": [],
   "source": [
    "pd_zong = pd.concat([paidan_data,paidan])"
   ]
  },
  {
   "cell_type": "code",
   "execution_count": 27,
   "metadata": {
    "collapsed": false
   },
   "outputs": [],
   "source": [
    "y = pd_zong.iloc[:,-1]\n",
    "x = pd_zong.ix[:,:-1]"
   ]
  },
  {
   "cell_type": "code",
   "execution_count": 28,
   "metadata": {
    "collapsed": false
   },
   "outputs": [
    {
     "data": {
      "text/plain": [
       "LogisticRegression(C=100, class_weight=None, dual=False, fit_intercept=True,\n",
       "          intercept_scaling=1, max_iter=100, multi_class='ovr', n_jobs=1,\n",
       "          penalty='l2', random_state=None, solver='liblinear', tol=0.0001,\n",
       "          verbose=0, warm_start=False)"
      ]
     },
     "execution_count": 28,
     "metadata": {},
     "output_type": "execute_result"
    }
   ],
   "source": [
    "clf_regression_one = LogisticRegression(C = 100)\n",
    "clf_regression_one.fit(x,y)"
   ]
  },
  {
   "cell_type": "code",
   "execution_count": 29,
   "metadata": {
    "collapsed": false
   },
   "outputs": [
    {
     "name": "stdout",
     "output_type": "stream",
     "text": [
      "0.748513432151\n",
      "[[ -8.36018315e-04  -3.08451516e-04   1.81729443e-02   1.64255228e+00\n",
      "   -6.74557138e-04   9.98831615e-04  -5.09015584e-03   1.61210009e+00\n",
      "    2.46677645e-04  -1.96584533e-04   4.32005075e-03]] [-1.16145659]\n"
     ]
    }
   ],
   "source": [
    "print clf_regression_one.score(x,y)\n",
    "print clf_regression_one.coef_ , clf_regression_one.intercept_ "
   ]
  }
 ],
 "metadata": {
  "kernelspec": {
   "display_name": "Python 2",
   "language": "python",
   "name": "python2"
  },
  "language_info": {
   "codemirror_mode": {
    "name": "ipython",
    "version": 2
   },
   "file_extension": ".py",
   "mimetype": "text/x-python",
   "name": "python",
   "nbconvert_exporter": "python",
   "pygments_lexer": "ipython2",
   "version": "2.7.11"
  }
 },
 "nbformat": 4,
 "nbformat_minor": 0
}
