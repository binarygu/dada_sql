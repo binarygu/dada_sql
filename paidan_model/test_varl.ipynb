{
 "cells": [
  {
   "cell_type": "code",
   "execution_count": 1,
   "metadata": {
    "collapsed": false
   },
   "outputs": [
    {
     "name": "stderr",
     "output_type": "stream",
     "text": [
      "c:\\python27\\lib\\site-packages\\matplotlib\\__init__.py:872: UserWarning: axes.color_cycle is deprecated and replaced with axes.prop_cycle; please use the latter.\n",
      "  warnings.warn(self.msg_depr % (key, alt_key))\n"
     ]
    }
   ],
   "source": [
    "import pandas as pd\n",
    "import numpy as np\n",
    "import seaborn as sns\n",
    "import matplotlib.pyplot as plt\n",
    "\n",
    "from sklearn.ensemble import RandomForestClassifier\n",
    "from sklearn.ensemble import GradientBoostingClassifier\n",
    "from sklearn.svm import LinearSVC\n",
    "from sklearn.svm import SVC\n",
    "from sklearn.linear_model import LogisticRegression\n",
    "\n",
    "from sklearn.pipeline import Pipeline\n",
    "from sklearn.grid_search import GridSearchCV\n",
    "from sklearn import preprocessing\n",
    "from sklearn.feature_selection import SelectFromModel\n",
    "\n",
    "from sklearn.metrics import f1_score\n",
    "from sklearn.metrics import precision_score\n",
    "from sklearn.metrics import recall_score\n",
    "from sklearn.metrics import roc_auc_score \n",
    "from sklearn.metrics import accuracy_score\n",
    "from sklearn.metrics import confusion_matrix"
   ]
  },
  {
   "cell_type": "code",
   "execution_count": 18,
   "metadata": {
    "collapsed": false
   },
   "outputs": [],
   "source": [
    "#读入数据()\n",
    "paidan_data = pd.read_csv('paidan_data/test_1214.csv', index_col = 1)\n",
    "paidan_data = paidan_data.fillna(value = 0)\n",
    "\n",
    "\n",
    "#异常值处理\n",
    "paidan_data.loc[paidan_data.paidan_receiver_distance_jiedan_supplier_max > 10000,\"paidan_receiver_distance_jiedan_supplier_max\"] = paidan_data[\"paidan_receiver_distance_jiedan_supplier_max\"][paidan_data.paidan_receiver_distance_jiedan_supplier_max < 10000].mean()\n",
    "paidan_data.loc[paidan_data.paidan_receiver_distance_jiedan_supplier_min > 10000,\"paidan_receiver_distance_jiedan_supplier_min\"] = paidan_data[\"paidan_receiver_distance_jiedan_supplier_min\"][paidan_data.paidan_receiver_distance_jiedan_supplier_max < 10000].mean()\n",
    "paidan_data.loc[paidan_data.paidan_supplier_distance_jiedan_supplier_max > 10000,\"paidan_supplier_distance_jiedan_supplier_max\"] = paidan_data[\"paidan_supplier_distance_jiedan_supplier_max\"][paidan_data.paidan_receiver_distance_jiedan_supplier_max < 10000].mean()\n",
    "paidan_data.loc[paidan_data.paidan_supplier_distance_jiedan_supplier_min > 10000,\"paidan_supplier_distance_jiedan_supplier_min\"] = paidan_data[\"paidan_supplier_distance_jiedan_supplier_min\"][paidan_data.paidan_receiver_distance_jiedan_supplier_max < 10000].mean()\n",
    "paidan_data.loc[paidan_data.paidan_receiver_distance_jiedan_receiver_max > 10000,\"paidan_receiver_distance_jiedan_receiver_max\"] = paidan_data[\"paidan_receiver_distance_jiedan_receiver_max\"][paidan_data.paidan_receiver_distance_jiedan_supplier_max < 10000].mean()\n",
    "paidan_data.loc[paidan_data.paidan_receiver_distance_jiedan_receiver_min > 10000,\"paidan_receiver_distance_jiedan_receiver_min\"] = paidan_data[\"paidan_receiver_distance_jiedan_receiver_min\"][paidan_data.paidan_receiver_distance_jiedan_supplier_max < 10000].mean()\n",
    "paidan_data.loc[paidan_data.paidan_supplier_distance_jiedan_receiver_max > 10000,\"paidan_supplier_distance_jiedan_receiver_max\"] = paidan_data[\"paidan_supplier_distance_jiedan_receiver_max\"][paidan_data.paidan_receiver_distance_jiedan_supplier_max < 10000].mean()\n",
    "paidan_data.loc[paidan_data.paidan_supplier_distance_jiedan_receiver_min > 10000,\"paidan_supplier_distance_jiedan_receiver_min\"] = paidan_data[\"paidan_supplier_distance_jiedan_receiver_min\"][paidan_data.paidan_receiver_distance_jiedan_supplier_max < 10000].mean()\n",
    "paidan_data.loc[paidan_data.supplier_receiver_distance > 10000,\"supplier_receiver_distance\"] = paidan_data[\"supplier_receiver_distance\"][paidan_data.paidan_receiver_distance_jiedan_supplier_max < 10000].mean()\n",
    "paidan_data.loc[paidan_data.transporter_supplier_distance > 10000,\"transporter_supplier_distance\"] = paidan_data[\"transporter_supplier_distance\"][paidan_data.paidan_receiver_distance_jiedan_supplier_max < 10000].mean()\n",
    "\n",
    "\n",
    "varl_ten = ['supplier_receiver_distance',\n",
    "        'transporter_supplier_distance',\n",
    "        'today_finish_order_num',\n",
    "        'transporter_before_fourteen_day_paidan_lv',\n",
    "        'paidan_receiver_distance_jiedan_receiver_min',\n",
    "        'paidan_supplier_distance_jiedan_receiver_min',\n",
    "        'paidan_hour',\n",
    "        'transporter_before_seven_day_paidan_lv',\n",
    "        'paidan_supplier_distance_jiedan_receiver_max',\n",
    "        'paidan_receiver_distance_jiedan_receiver_max',\n",
    "        'allowance_amt']\n",
    "\n",
    "varl_tweenty = ['supplier_receiver_distance',\n",
    "        'transporter_supplier_distance',\n",
    "        'today_finish_order_num',\n",
    "        'transporter_before_fourteen_day_paidan_lv',\n",
    "        'paidan_receiver_distance_jiedan_receiver_min',\n",
    "        'paidan_supplier_distance_jiedan_receiver_min',\n",
    "        'paidan_hour',\n",
    "        'transporter_before_seven_day_paidan_lv',\n",
    "        'paidan_supplier_distance_jiedan_receiver_max',\n",
    "        'paidan_receiver_distance_jiedan_receiver_max',\n",
    "        'allowance_amt',\n",
    "        'paidan_supplier_distance_jiedan_supplier_min',\n",
    "        'transporter_before_seven_day_paidan_num',\n",
    "        'paidan_receiver_distance_jiedan_supplier_min',\n",
    "        'supplier_before_fourteen_day_paidan_lv',\n",
    "        'transporter_before_fourteen_day_jiedan_num',\n",
    "        'supplier_before_seven_day_jiedan_lv',\n",
    "        'transporter_before_fourteen_day_paidan_success_num',\n",
    "        'transporter_before_fourteen_day_paidan_num',\n",
    "        'transporter_supplier_before_fourteen_day_paidan_lv']\n",
    "\n",
    "#区分目标变量和\n",
    "y_train = paidan_data.iloc[:,-1]\n",
    "x_train = paidan_data.ix[:,varl_ten]\n",
    "#x_train = paidan_data.ix[:,:-1]\n",
    "#变量删除和组合\n",
    "#del x_train['create_dt']\n",
    "# del x_train['order_source_from']\n",
    "# del x_train['is_cargo_advance_needed']\n",
    "# del x_train['transporter_before_one_day_paidan_num']\n",
    "# del x_train['transporter_before_seven_day_paidan_num']\n",
    "# del x_train['transporter_before_fourteen_day_paidan_num']\n",
    "# del x_train['supplier_before_one_day_paidan_num']\n",
    "# del x_train['supplier_before_seven_day_paidan_num']\n",
    "# del x_train['supplier_before_fourteen_day_paidan_num']\n",
    "# del x_train['transporter_supplier_before_one_day_paidan_num']\n",
    "# del x_train['transporter_supplier_before_seven_day_paidan_num']\n",
    "# del x_train['transporter_supplier_before_fourteen_day_paidan_num']\n",
    "\n",
    "# x_train['fee'] = x_train['tips_amt'] + x_train['fee_sum']\n",
    "# del x_train['tips_amt']\n",
    "# del x_train['allowance_amt']\n",
    "# del x_train['deliver_fee_amt']\n",
    "# del x_train['fee_sum']\n",
    "\n",
    "\n",
    "#最大最小归一化\n",
    "x_train_columns = x_train.columns\n",
    "x_train_index = x_train.index\n",
    "min_max_scaler = preprocessing.MinMaxScaler()\n",
    "x_train = min_max_scaler.fit_transform(x_train)\n",
    "x_train = pd.DataFrame(x_train, columns = x_train_columns, index = x_train_index)\n",
    "\n",
    "\n",
    "#区分测试集训练集\n",
    "#train_data = paidan_data.sample(frac=0.7, random_state=1)\n",
    "#test_data = paidan_data.loc[~paidan_data.index.isin(train_data.index)]"
   ]
  },
  {
   "cell_type": "code",
   "execution_count": 19,
   "metadata": {
    "collapsed": true
   },
   "outputs": [],
   "source": [
    "#读入数据\n",
    "paidan = pd.read_csv('paidan_data/test_1215.csv', index_col = 1)\n",
    "paidan = paidan.fillna(value = 0)\n",
    "\n",
    "\n",
    "#异常值处理\n",
    "paidan.loc[paidan.paidan_receiver_distance_jiedan_supplier_max > 10000,\"paidan_receiver_distance_jiedan_supplier_max\"] = paidan[\"paidan_receiver_distance_jiedan_supplier_max\"][paidan.paidan_receiver_distance_jiedan_supplier_max < 10000].mean()\n",
    "paidan.loc[paidan.paidan_receiver_distance_jiedan_supplier_min > 10000,\"paidan_receiver_distance_jiedan_supplier_min\"] = paidan[\"paidan_receiver_distance_jiedan_supplier_min\"][paidan.paidan_receiver_distance_jiedan_supplier_max < 10000].mean()\n",
    "paidan.loc[paidan.paidan_supplier_distance_jiedan_supplier_max > 10000,\"paidan_supplier_distance_jiedan_supplier_max\"] = paidan[\"paidan_supplier_distance_jiedan_supplier_max\"][paidan.paidan_receiver_distance_jiedan_supplier_max < 10000].mean()\n",
    "paidan.loc[paidan.paidan_supplier_distance_jiedan_supplier_min > 10000,\"paidan_supplier_distance_jiedan_supplier_min\"] = paidan[\"paidan_supplier_distance_jiedan_supplier_min\"][paidan.paidan_receiver_distance_jiedan_supplier_max < 10000].mean()\n",
    "paidan.loc[paidan.paidan_receiver_distance_jiedan_receiver_max > 10000,\"paidan_receiver_distance_jiedan_receiver_max\"] = paidan[\"paidan_receiver_distance_jiedan_receiver_max\"][paidan.paidan_receiver_distance_jiedan_supplier_max < 10000].mean()\n",
    "paidan.loc[paidan.paidan_receiver_distance_jiedan_receiver_min > 10000,\"paidan_receiver_distance_jiedan_receiver_min\"] = paidan[\"paidan_receiver_distance_jiedan_receiver_min\"][paidan.paidan_receiver_distance_jiedan_supplier_max < 10000].mean()\n",
    "paidan.loc[paidan.paidan_supplier_distance_jiedan_receiver_max > 10000,\"paidan_supplier_distance_jiedan_receiver_max\"] = paidan[\"paidan_supplier_distance_jiedan_receiver_max\"][paidan.paidan_receiver_distance_jiedan_supplier_max < 10000].mean()\n",
    "paidan.loc[paidan.paidan_supplier_distance_jiedan_receiver_min > 10000,\"paidan_supplier_distance_jiedan_receiver_min\"] = paidan[\"paidan_supplier_distance_jiedan_receiver_min\"][paidan.paidan_receiver_distance_jiedan_supplier_max < 10000].mean()\n",
    "paidan.loc[paidan.supplier_receiver_distance > 10000,\"supplier_receiver_distance\"] = paidan[\"supplier_receiver_distance\"][paidan.paidan_receiver_distance_jiedan_supplier_max < 10000].mean()\n",
    "paidan.loc[paidan.transporter_supplier_distance > 10000,\"transporter_supplier_distance\"] = paidan[\"transporter_supplier_distance\"][paidan.paidan_receiver_distance_jiedan_supplier_max < 10000].mean()\n",
    "\n",
    "\n",
    "del paidan['create_dt']\n",
    "# del paidan['order_source_from']\n",
    "# del paidan['is_cargo_advance_needed']\n",
    "# del paidan['transporter_before_one_day_paidan_num']\n",
    "# del paidan['transporter_before_seven_day_paidan_num']\n",
    "# del paidan['transporter_before_fourteen_day_paidan_num']\n",
    "# del paidan['supplier_before_one_day_paidan_num']\n",
    "# del paidan['supplier_before_seven_day_paidan_num']\n",
    "# del paidan['supplier_before_fourteen_day_paidan_num']\n",
    "# del paidan['transporter_supplier_before_one_day_paidan_num']\n",
    "# del paidan['transporter_supplier_before_seven_day_paidan_num']\n",
    "# del paidan['transporter_supplier_before_fourteen_day_paidan_num']\n",
    "\n",
    "\n",
    "\n",
    "\n",
    "varl_ten = ['supplier_receiver_distance',\n",
    "        'transporter_supplier_distance',\n",
    "        'today_finish_order_num',\n",
    "        'transporter_before_fourteen_day_paidan_lv',\n",
    "        'paidan_receiver_distance_jiedan_receiver_min',\n",
    "        'paidan_supplier_distance_jiedan_receiver_min',\n",
    "        'paidan_hour',\n",
    "        'transporter_before_seven_day_paidan_lv',\n",
    "        'paidan_supplier_distance_jiedan_receiver_max',\n",
    "        'paidan_receiver_distance_jiedan_receiver_max',\n",
    "        'allowance_amt']\n",
    "\n",
    "varl_tweenty = ['supplier_receiver_distance',\n",
    "        'transporter_supplier_distance',\n",
    "        'today_finish_order_num',\n",
    "        'transporter_before_fourteen_day_paidan_lv',\n",
    "        'paidan_receiver_distance_jiedan_receiver_min',\n",
    "        'paidan_supplier_distance_jiedan_receiver_min',\n",
    "        'paidan_hour',\n",
    "        'transporter_before_seven_day_paidan_lv',\n",
    "        'paidan_supplier_distance_jiedan_receiver_max',\n",
    "        'paidan_receiver_distance_jiedan_receiver_max',\n",
    "        'allowance_amt',\n",
    "        'paidan_supplier_distance_jiedan_supplier_min',\n",
    "        'transporter_before_seven_day_paidan_num',\n",
    "        'paidan_receiver_distance_jiedan_supplier_min',\n",
    "        'supplier_before_fourteen_day_paidan_lv',\n",
    "        'transporter_before_fourteen_day_jiedan_num',\n",
    "        'supplier_before_seven_day_jiedan_lv',\n",
    "        'transporter_before_fourteen_day_paidan_success_num',\n",
    "        'transporter_before_fourteen_day_paidan_num',\n",
    "        'transporter_supplier_before_fourteen_day_paidan_lv']\n",
    "\n",
    "y_paidan = paidan.ix[:,-1]\n",
    "x_paidan = paidan.ix[:,varl_ten]\n",
    "#x_paidan = paidan.ix[:,:-1]\n",
    "\n",
    "# x_paidan['fee'] = x_paidan['tips_amt'] + x_paidan['fee_sum']\n",
    "# del x_paidan['tips_amt']\n",
    "# del x_paidan['allowance_amt']\n",
    "# del x_paidan['deliver_fee_amt']\n",
    "# del x_paidan['fee_sum']\n",
    "\n",
    "\n",
    "\n",
    "x_paidan_index = x_paidan.index\n",
    "x_paidan_columns = x_paidan.columns\n",
    "x_paidan = min_max_scaler.transform(x_paidan)\n",
    "x_paidan =pd.DataFrame(x_paidan, columns = x_paidan_columns, index = x_paidan_index)"
   ]
  },
  {
   "cell_type": "code",
   "execution_count": 20,
   "metadata": {
    "collapsed": false
   },
   "outputs": [
    {
     "name": "stdout",
     "output_type": "stream",
     "text": [
      "##############################\n",
      "训练集准确率 0.839742558327\n",
      "测试集准确率: 0.769269133116\n",
      "F1: 0.624898651139\n",
      "命中率： 0.680198973042\n",
      "查全率： 0.577914110429\n",
      "auc: 0.721264643014\n",
      "混淆矩阵：\n"
     ]
    },
    {
     "ename": "NameError",
     "evalue": "name 'e' is not defined",
     "output_type": "error",
     "traceback": [
      "\u001b[1;31m---------------------------------------------------------------------------\u001b[0m",
      "\u001b[1;31mNameError\u001b[0m                                 Traceback (most recent call last)",
      "\u001b[1;32m<ipython-input-20-7192d67b1e76>\u001b[0m in \u001b[0;36m<module>\u001b[1;34m()\u001b[0m\n\u001b[0;32m     18\u001b[0m \u001b[1;32mprint\u001b[0m \u001b[1;34m'auc:'\u001b[0m\u001b[1;33m,\u001b[0m\u001b[0md\u001b[0m\u001b[1;33m\u001b[0m\u001b[0m\n\u001b[0;32m     19\u001b[0m \u001b[1;32mprint\u001b[0m \u001b[1;34m'混淆矩阵：'\u001b[0m\u001b[1;33m\u001b[0m\u001b[0m\n\u001b[1;32m---> 20\u001b[1;33m \u001b[1;32mprint\u001b[0m \u001b[0me\u001b[0m\u001b[1;33m\u001b[0m\u001b[0m\n\u001b[0m\u001b[0;32m     21\u001b[0m \u001b[1;32mprint\u001b[0m \u001b[1;34m'##########################'\u001b[0m\u001b[1;33m\u001b[0m\u001b[0m\n",
      "\u001b[1;31mNameError\u001b[0m: name 'e' is not defined"
     ]
    }
   ],
   "source": [
    "clf_boost1 = GradientBoostingClassifier(n_estimators=1200, learning_rate=0.05)\n",
    "clf_boost1.fit(x_train,y_train)\n",
    "\n",
    "test_label = clf_boost1.predict(x_paidan)\n",
    "\n",
    "a1 = accuracy_score(y_paidan,test_label)\n",
    "a = f1_score(y_paidan,test_label)\n",
    "b = precision_score(y_paidan,test_label)\n",
    "c = recall_score(y_paidan,test_label)\n",
    "d = roc_auc_score(y_paidan,test_label)\n",
    "\n",
    "print '##############################'\n",
    "print '训练集准确率',clf_boost1.score(x_train,y_train)\n",
    "print '测试集准确率:',a1\n",
    "print 'F1:',a\n",
    "print '命中率：',b\n",
    "print '查全率：',c\n",
    "print 'auc:',d\n",
    "print '混淆矩阵：'\n",
    "print e\n",
    "print '##########################'"
   ]
  },
  {
   "cell_type": "code",
   "execution_count": 12,
   "metadata": {
    "collapsed": false
   },
   "outputs": [
    {
     "name": "stdout",
     "output_type": "stream",
     "text": [
      "##############################\n",
      "训练集准确率 0.854652721909\n",
      "测试集准确率: 0.770719985491\n",
      "F1: 0.629388054232\n",
      "命中率： 0.680507131537\n",
      "查全率： 0.585412406271\n",
      "auc: 0.724232594006\n",
      "混淆矩阵：\n"
     ]
    },
    {
     "ename": "NameError",
     "evalue": "name 'e' is not defined",
     "output_type": "error",
     "traceback": [
      "\u001b[1;31m---------------------------------------------------------------------------\u001b[0m",
      "\u001b[1;31mNameError\u001b[0m                                 Traceback (most recent call last)",
      "\u001b[1;32m<ipython-input-12-7b3a2c8b698c>\u001b[0m in \u001b[0;36m<module>\u001b[1;34m()\u001b[0m\n\u001b[0;32m      7\u001b[0m \u001b[1;32mprint\u001b[0m \u001b[1;34m'auc:'\u001b[0m\u001b[1;33m,\u001b[0m\u001b[0md\u001b[0m\u001b[1;33m\u001b[0m\u001b[0m\n\u001b[0;32m      8\u001b[0m \u001b[1;32mprint\u001b[0m \u001b[1;34m'混淆矩阵：'\u001b[0m\u001b[1;33m\u001b[0m\u001b[0m\n\u001b[1;32m----> 9\u001b[1;33m \u001b[1;32mprint\u001b[0m \u001b[0me\u001b[0m\u001b[1;33m\u001b[0m\u001b[0m\n\u001b[0m\u001b[0;32m     10\u001b[0m \u001b[1;32mprint\u001b[0m \u001b[1;34m'##########################'\u001b[0m\u001b[1;33m\u001b[0m\u001b[0m\n",
      "\u001b[1;31mNameError\u001b[0m: name 'e' is not defined"
     ]
    }
   ],
   "source": []
  },
  {
   "cell_type": "code",
   "execution_count": 14,
   "metadata": {
    "collapsed": true
   },
   "outputs": [],
   "source": [
    "pd.Series(clf_boost1.feature_importances_,index=x_paidan_columns).rank(ascending=False,method='max').to_csv('C:/mm2.csv')"
   ]
  }
 ],
 "metadata": {
  "kernelspec": {
   "display_name": "Python 2",
   "language": "python",
   "name": "python2"
  },
  "language_info": {
   "codemirror_mode": {
    "name": "ipython",
    "version": 2
   },
   "file_extension": ".py",
   "mimetype": "text/x-python",
   "name": "python",
   "nbconvert_exporter": "python",
   "pygments_lexer": "ipython2",
   "version": "2.7.11"
  }
 },
 "nbformat": 4,
 "nbformat_minor": 0
}
